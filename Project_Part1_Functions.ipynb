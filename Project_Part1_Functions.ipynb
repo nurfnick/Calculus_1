{
  "nbformat": 4,
  "nbformat_minor": 0,
  "metadata": {
    "colab": {
      "name": "Untitled109.ipynb",
      "provenance": [],
      "authorship_tag": "ABX9TyMLqQ8RnsbhBCMkwT6ikX2R",
      "include_colab_link": true
    },
    "kernelspec": {
      "name": "python3",
      "display_name": "Python 3"
    },
    "language_info": {
      "name": "python"
    }
  },
  "cells": [
    {
      "cell_type": "markdown",
      "metadata": {
        "id": "view-in-github",
        "colab_type": "text"
      },
      "source": [
        "<a href=\"https://colab.research.google.com/github/nurfnick/Calculus_1/blob/main/Project_Part1_Functions.ipynb\" target=\"_parent\"><img src=\"https://colab.research.google.com/assets/colab-badge.svg\" alt=\"Open In Colab\"/></a>"
      ]
    },
    {
      "cell_type": "markdown",
      "source": [
        "# Fun With Functions\n",
        "\n",
        "Dr. Jacob's work trying to do something similar to the assignment 1."
      ],
      "metadata": {
        "id": "3TWVo89mNUhC"
      }
    },
    {
      "cell_type": "markdown",
      "source": [
        "## Domains and Inverses\n",
        "\n",
        "I am going to start with the function\n",
        "\n",
        "$$ \n",
        "f(x) = \\frac {x-2}{x-3}\n",
        "$$\n",
        "\n",
        "It is an interesting function that I can explore!"
      ],
      "metadata": {
        "id": "uIgREsRmNg3r"
      }
    },
    {
      "cell_type": "code",
      "source": [
        "def f(x):\n",
        "  return (x-2)/(x-3)\n",
        "\n",
        "f(0)"
      ],
      "metadata": {
        "colab": {
          "base_uri": "https://localhost:8080/"
        },
        "id": "-xCwSfSqOLAu",
        "outputId": "a6481196-176a-4eff-f741-358a61c2f2e6"
      },
      "execution_count": 20,
      "outputs": [
        {
          "output_type": "execute_result",
          "data": {
            "text/plain": [
              "0.6666666666666666"
            ]
          },
          "metadata": {},
          "execution_count": 20
        }
      ]
    },
    {
      "cell_type": "code",
      "source": [
        "f(1)"
      ],
      "metadata": {
        "colab": {
          "base_uri": "https://localhost:8080/"
        },
        "id": "XX-eeJnDOTkK",
        "outputId": "b45487ea-04fa-4576-f1e7-f4e2d2bb35be"
      },
      "execution_count": 21,
      "outputs": [
        {
          "output_type": "execute_result",
          "data": {
            "text/plain": [
              "0.5"
            ]
          },
          "metadata": {},
          "execution_count": 21
        }
      ]
    },
    {
      "cell_type": "markdown",
      "source": [
        "First I'll note that the domain of the function is all real numbers **except** $3$.  This could be written in interval notation as $(-\\infty,3)\\cup (3,\\infty)$\n",
        "\n",
        "Let's see what happens if we graph it including that number.  \n"
      ],
      "metadata": {
        "id": "cO6cEzVYNxkj"
      }
    },
    {
      "cell_type": "code",
      "execution_count": 22,
      "metadata": {
        "colab": {
          "base_uri": "https://localhost:8080/",
          "height": 283
        },
        "id": "UllsC6gsNToz",
        "outputId": "dec24d82-522b-44fb-8075-c39b3976d0ac"
      },
      "outputs": [
        {
          "output_type": "execute_result",
          "data": {
            "text/plain": [
              "[<matplotlib.lines.Line2D at 0x7fdf93011490>]"
            ]
          },
          "metadata": {},
          "execution_count": 22
        },
        {
          "output_type": "display_data",
          "data": {
            "text/plain": [
              "<Figure size 432x288 with 1 Axes>"
            ],
            "image/png": "[encoded data removed]"
          },
          "metadata": {
            "needs_background": "light"
          }
        }
      ],
      "source": [
        "import matplotlib.pyplot as plt \n",
        "import numpy as np\n",
        "\n",
        "x = np.linspace(-5,5,1000)\n",
        "\n",
        "plt.plot(x,f(x))"
      ]
    },
    {
      "cell_type": "markdown",
      "source": [
        "I don't expect you to just come up with all this code on your own **but** I expect you to make an attempt to see what it does!\n",
        "\n",
        "```\n",
        "import matplotlib.pyplot as plt \n",
        "import numpy as np\n",
        "\n",
        "```\n",
        "\n",
        "These two lines import important packages that we will use.  matplotlib is a plotting package and numpy allows us to deal with lots of numbers quickly.  Both are given the standard shortcuts (colab actually suggests these shortcuts!)\n",
        "\n",
        "Next part sets up the domain to be plotted over.\n",
        "\n",
        "```\n",
        "x = np.linspace(-5,5,1000)\n",
        "```\n",
        "\n",
        "I asked for 1000 points between -5 and 5.  I called this `x`.  If I call `x` again, I'll get the same array of numbers.  \n",
        "\n",
        "Lastly I plot the function using the `x` and the `f(x)`."
      ],
      "metadata": {
        "id": "aVmBxMyJOs40"
      }
    },
    {
      "cell_type": "code",
      "source": [
        "x[0:7] #here are the first seven entries of x"
      ],
      "metadata": {
        "colab": {
          "base_uri": "https://localhost:8080/"
        },
        "id": "eJDSd--GOkpY",
        "outputId": "6cbe9b7b-fb66-4ebf-a347-230dce3311fe"
      },
      "execution_count": 23,
      "outputs": [
        {
          "output_type": "execute_result",
          "data": {
            "text/plain": [
              "array([-5.        , -4.98998999, -4.97997998, -4.96996997, -4.95995996,\n",
              "       -4.94994995, -4.93993994])"
            ]
          },
          "metadata": {},
          "execution_count": 23
        }
      ]
    },
    {
      "cell_type": "markdown",
      "source": [
        "I am not happy with my plot, I cannot really understand what is happening at 3.  "
      ],
      "metadata": {
        "id": "oSJofLBSQEpd"
      }
    },
    {
      "cell_type": "code",
      "source": [
        "f(3)"
      ],
      "metadata": {
        "colab": {
          "base_uri": "https://localhost:8080/",
          "height": 284
        },
        "id": "wSELhqmyP2eD",
        "outputId": "e3d9cf92-2798-4433-c0b0-8755fca5e296"
      },
      "execution_count": 24,
      "outputs": [
        {
          "output_type": "error",
          "ename": "ZeroDivisionError",
          "evalue": "ignored",
          "traceback": [
            "\u001b[0;31m---------------------------------------------------------------------------\u001b[0m",
            "\u001b[0;31mZeroDivisionError\u001b[0m                         Traceback (most recent call last)",
            "\u001b[0;32m<ipython-input-24-1bff2c73920e>\u001b[0m in \u001b[0;36m<module>\u001b[0;34m()\u001b[0m\n\u001b[0;32m----> 1\u001b[0;31m \u001b[0mf\u001b[0m\u001b[0;34m(\u001b[0m\u001b[0;36m3\u001b[0m\u001b[0;34m)\u001b[0m\u001b[0;34m\u001b[0m\u001b[0;34m\u001b[0m\u001b[0m\n\u001b[0m",
            "\u001b[0;32m<ipython-input-20-261dfa810394>\u001b[0m in \u001b[0;36mf\u001b[0;34m(x)\u001b[0m\n\u001b[1;32m      1\u001b[0m \u001b[0;32mdef\u001b[0m \u001b[0mf\u001b[0m\u001b[0;34m(\u001b[0m\u001b[0mx\u001b[0m\u001b[0;34m)\u001b[0m\u001b[0;34m:\u001b[0m\u001b[0;34m\u001b[0m\u001b[0;34m\u001b[0m\u001b[0m\n\u001b[0;32m----> 2\u001b[0;31m   \u001b[0;32mreturn\u001b[0m \u001b[0;34m(\u001b[0m\u001b[0mx\u001b[0m\u001b[0;34m-\u001b[0m\u001b[0;36m2\u001b[0m\u001b[0;34m)\u001b[0m\u001b[0;34m/\u001b[0m\u001b[0;34m(\u001b[0m\u001b[0mx\u001b[0m\u001b[0;34m-\u001b[0m\u001b[0;36m3\u001b[0m\u001b[0;34m)\u001b[0m\u001b[0;34m\u001b[0m\u001b[0;34m\u001b[0m\u001b[0m\n\u001b[0m\u001b[1;32m      3\u001b[0m \u001b[0;34m\u001b[0m\u001b[0m\n\u001b[1;32m      4\u001b[0m \u001b[0mf\u001b[0m\u001b[0;34m(\u001b[0m\u001b[0;36m0\u001b[0m\u001b[0;34m)\u001b[0m\u001b[0;34m\u001b[0m\u001b[0;34m\u001b[0m\u001b[0m\n",
            "\u001b[0;31mZeroDivisionError\u001b[0m: division by zero"
          ]
        }
      ]
    },
    {
      "cell_type": "markdown",
      "source": [
        "It breaks python to put it in there so I should do something else..."
      ],
      "metadata": {
        "id": "NxY9BmrvQNdD"
      }
    },
    {
      "cell_type": "code",
      "source": [
        "f(3.00000000000001)"
      ],
      "metadata": {
        "colab": {
          "base_uri": "https://localhost:8080/"
        },
        "id": "Yh5IPERXQMg5",
        "outputId": "0194d245-654a-4ce7-9184-f72978996420"
      },
      "execution_count": 25,
      "outputs": [
        {
          "output_type": "execute_result",
          "data": {
            "text/plain": [
              "97904339725446.56"
            ]
          },
          "metadata": {},
          "execution_count": 25
        }
      ]
    },
    {
      "cell_type": "markdown",
      "source": [
        "That is a big number!"
      ],
      "metadata": {
        "id": "RPj-n0-aQWND"
      }
    },
    {
      "cell_type": "code",
      "source": [
        "f(2.9999999999999)"
      ],
      "metadata": {
        "colab": {
          "base_uri": "https://localhost:8080/"
        },
        "id": "JhXuOQvbQUzP",
        "outputId": "1f483660-e18d-4bc9-994d-c3d7ddffa661"
      },
      "execution_count": 26,
      "outputs": [
        {
          "output_type": "execute_result",
          "data": {
            "text/plain": [
              "-10007999171933.436"
            ]
          },
          "metadata": {},
          "execution_count": 26
        }
      ]
    },
    {
      "cell_type": "markdown",
      "source": [
        "That is a really small number!  I bet these are blowing up in different directions!"
      ],
      "metadata": {
        "id": "sxiXrtS2QbDh"
      }
    },
    {
      "cell_type": "markdown",
      "source": [
        "For the inverse, you swap the $x$ and $y$ and solve for $y$ again.  You'd start with \n",
        "\n",
        "$$ x = \\frac{y-2}{y-3} $$\n",
        "\n",
        "and end up with \n",
        "\n",
        "$$ y = \\frac{2-3x}{1-x}$$\n",
        "\n",
        "This is my inverse!  Let's see if we can check it."
      ],
      "metadata": {
        "id": "YPy12OsWQzby"
      }
    },
    {
      "cell_type": "code",
      "source": [
        "def finverse(x):\n",
        "  return (2-3*x)/(1-x)\n",
        "\n",
        "finverse(0)"
      ],
      "metadata": {
        "colab": {
          "base_uri": "https://localhost:8080/"
        },
        "id": "VmeTDpQSQaKf",
        "outputId": "14d33724-8f6b-4cff-c980-beadfff5774d"
      },
      "execution_count": 27,
      "outputs": [
        {
          "output_type": "execute_result",
          "data": {
            "text/plain": [
              "2.0"
            ]
          },
          "metadata": {},
          "execution_count": 27
        }
      ]
    },
    {
      "cell_type": "markdown",
      "source": [
        "I like to test a function after I define it, just to see it is doing what I expect.  The inverse swaps the role of $x$ and $y$ so we should see $f(2)=0$."
      ],
      "metadata": {
        "id": "WBFG2yv8RfbH"
      }
    },
    {
      "cell_type": "code",
      "source": [
        "f(2)"
      ],
      "metadata": {
        "colab": {
          "base_uri": "https://localhost:8080/"
        },
        "id": "X0Qgu3I1RcTN",
        "outputId": "4e05395d-52ef-4d06-df40-51e4f55f4e05"
      },
      "execution_count": 28,
      "outputs": [
        {
          "output_type": "execute_result",
          "data": {
            "text/plain": [
              "-0.0"
            ]
          },
          "metadata": {},
          "execution_count": 28
        }
      ]
    },
    {
      "cell_type": "markdown",
      "source": [
        "Not sure what a -0.0 is...  Let's graph these together."
      ],
      "metadata": {
        "id": "fdsizF5qRt6z"
      }
    },
    {
      "cell_type": "code",
      "source": [
        "import matplotlib.pyplot as plt \n",
        "import numpy as np\n",
        "\n",
        "x = np.linspace(-5,5,1000)\n",
        "\n",
        "plt.plot(x,f(x))\n",
        "plt.plot(x,finverse(x))\n",
        "plt.show() #this just gets rid of the note"
      ],
      "metadata": {
        "id": "ok4atFXUAqda",
        "outputId": "8e25b33f-d6c9-41f1-953b-c958ae1937aa",
        "colab": {
          "base_uri": "https://localhost:8080/",
          "height": 268
        }
      },
      "execution_count": 30,
      "outputs": [
        {
          "output_type": "display_data",
          "data": {
            "text/plain": [
              "<Figure size 432x288 with 1 Axes>"
            ],
            "image/png": "[encoded data removed]"
          },
          "metadata": {
            "needs_background": "light"
          }
        }
      ]
    },
    {
      "cell_type": "markdown",
      "source": [
        "How should the inverse compare to the function?  A reflection across the line, y = x.  Can you see that in our picture?  Probably not...  Let me play with the window to try to see the reflection!"
      ],
      "metadata": {
        "id": "2BapJBVkA_QO"
      }
    },
    {
      "cell_type": "code",
      "source": [
        "plt.plot(x,f(x))\n",
        "plt.plot(x,finverse(x))\n",
        "plt.ylim(-5,5) #sets the y limits to -5 and 5\n",
        "plt.plot(x,x) #plots the line y = x\n",
        "plt.show() #this just gets rid of the note"
      ],
      "metadata": {
        "id": "ic_Mt_bPBStH",
        "outputId": "f0734d5c-c32b-4899-d820-80c50f0d9dc8",
        "colab": {
          "base_uri": "https://localhost:8080/",
          "height": 265
        }
      },
      "execution_count": 33,
      "outputs": [
        {
          "output_type": "display_data",
          "data": {
            "text/plain": [
              "<Figure size 432x288 with 1 Axes>"
            ],
            "image/png": "[encoded data removed]"
          },
          "metadata": {
            "needs_background": "light"
          }
        }
      ]
    },
    {
      "cell_type": "markdown",
      "source": [
        "This is still not quite right.  The vertical lines on both of these are in error, that is not part of the function.  I'll need to slice the interval up to make it correct."
      ],
      "metadata": {
        "id": "8q0Ie8Q0BzCo"
      }
    },
    {
      "cell_type": "code",
      "source": [
        "x1 = np.arange(-5,1,.01) #similar to linspace but you give it the interval size not the number of items in the list.\n",
        "x2 = np.arange(1.01,3,.01)\n",
        "x3 = np.arange(3.01,5,.01)\n",
        "\n",
        "x = np.append(x1,x2)\n",
        "x = np.append(x,x3)\n",
        "\n",
        "plt.plot(x1,f(x1),x2,f(x2),x3,f(x3), color = 'b')\n",
        "plt.plot(x1,finverse(x1),x2,finverse(x2),x3,finverse(x3), color = 'g')\n",
        "plt.plot(x,x, color = 'y')\n",
        "\n",
        "plt.ylim(-5,5)\n",
        "plt.show()"
      ],
      "metadata": {
        "id": "bH9UOy3RCADT",
        "outputId": "037c12c0-4c0e-411c-9ac5-8ae5846bb6c7",
        "colab": {
          "base_uri": "https://localhost:8080/",
          "height": 265
        }
      },
      "execution_count": 47,
      "outputs": [
        {
          "output_type": "display_data",
          "data": {
            "text/plain": [
              "<Figure size 432x288 with 1 Axes>"
            ],
            "image/png": "[encoded data removed]"
          },
          "metadata": {
            "needs_background": "light"
          }
        }
      ]
    },
    {
      "cell_type": "markdown",
      "source": [
        "That is much clearer of a vizualisation of the reflection!"
      ],
      "metadata": {
        "id": "_n-iIdFXEdy3"
      }
    },
    {
      "cell_type": "markdown",
      "source": [
        "Let's check it by ccomposing the functions."
      ],
      "metadata": {
        "id": "BvnGAtJ8RzVt"
      }
    },
    {
      "cell_type": "code",
      "source": [
        "f(finverse(x))"
      ],
      "metadata": {
        "colab": {
          "base_uri": "https://localhost:8080/"
        },
        "id": "6B3IFP7EReHp",
        "outputId": "1f426221-7b46-46ed-8a45-7743821d0b77"
      },
      "execution_count": null,
      "outputs": [
        {
          "output_type": "execute_result",
          "data": {
            "text/plain": [
              "array([-5.        , -4.98998999, -4.97997998, -4.96996997, -4.95995996,\n",
              "       -4.94994995, -4.93993994, -4.92992993, -4.91991992, -4.90990991,\n",
              "       -4.8998999 , -4.88988989, -4.87987988, -4.86986987, -4.85985986,\n",
              "       -4.84984985, -4.83983984, -4.82982983, -4.81981982, -4.80980981,\n",
              "       -4.7997998 , -4.78978979, -4.77977978, -4.76976977, -4.75975976,\n",
              "       -4.74974975, -4.73973974, -4.72972973, -4.71971972, -4.70970971,\n",
              "       -4.6996997 , -4.68968969, -4.67967968, -4.66966967, -4.65965966,\n",
              "       -4.64964965, -4.63963964, -4.62962963, -4.61961962, -4.60960961,\n",
              "       -4.5995996 , -4.58958959, -4.57957958, -4.56956957, -4.55955956,\n",
              "       -4.54954955, -4.53953954, -4.52952953, -4.51951952, -4.50950951,\n",
              "       -4.4994995 , -4.48948949, -4.47947948, -4.46946947, -4.45945946,\n",
              "       -4.44944945, -4.43943944, -4.42942943, -4.41941942, -4.40940941,\n",
              "       -4.3993994 , -4.38938939, -4.37937938, -4.36936937, -4.35935936,\n",
              "       -4.34934935, -4.33933934, -4.32932933, -4.31931932, -4.30930931,\n",
              "       -4.2992993 , -4.28928929, -4.27927928, -4.26926927, -4.25925926,\n",
              "       -4.24924925, -4.23923924, -4.22922923, -4.21921922, -4.20920921,\n",
              "       -4.1991992 , -4.18918919, -4.17917918, -4.16916917, -4.15915916,\n",
              "       -4.14914915, -4.13913914, -4.12912913, -4.11911912, -4.10910911,\n",
              "       -4.0990991 , -4.08908909, -4.07907908, -4.06906907, -4.05905906,\n",
              "       -4.04904905, -4.03903904, -4.02902903, -4.01901902, -4.00900901,\n",
              "       -3.998999  , -3.98898899, -3.97897898, -3.96896897, -3.95895896,\n",
              "       -3.94894895, -3.93893894, -3.92892893, -3.91891892, -3.90890891,\n",
              "       -3.8988989 , -3.88888889, -3.87887888, -3.86886887, -3.85885886,\n",
              "       -3.84884885, -3.83883884, -3.82882883, -3.81881882, -3.80880881,\n",
              "       -3.7987988 , -3.78878879, -3.77877878, -3.76876877, -3.75875876,\n",
              "       -3.74874875, -3.73873874, -3.72872873, -3.71871872, -3.70870871,\n",
              "       -3.6986987 , -3.68868869, -3.67867868, -3.66866867, -3.65865866,\n",
              "       -3.64864865, -3.63863864, -3.62862863, -3.61861862, -3.60860861,\n",
              "       -3.5985986 , -3.58858859, -3.57857858, -3.56856857, -3.55855856,\n",
              "       -3.54854855, -3.53853854, -3.52852853, -3.51851852, -3.50850851,\n",
              "       -3.4984985 , -3.48848849, -3.47847848, -3.46846847, -3.45845846,\n",
              "       -3.44844845, -3.43843844, -3.42842843, -3.41841842, -3.40840841,\n",
              "       -3.3983984 , -3.38838839, -3.37837838, -3.36836837, -3.35835836,\n",
              "       -3.34834835, -3.33833834, -3.32832833, -3.31831832, -3.30830831,\n",
              "       -3.2982983 , -3.28828829, -3.27827828, -3.26826827, -3.25825826,\n",
              "       -3.24824825, -3.23823824, -3.22822823, -3.21821822, -3.20820821,\n",
              "       -3.1981982 , -3.18818819, -3.17817818, -3.16816817, -3.15815816,\n",
              "       -3.14814815, -3.13813814, -3.12812813, -3.11811812, -3.10810811,\n",
              "       -3.0980981 , -3.08808809, -3.07807808, -3.06806807, -3.05805806,\n",
              "       -3.04804805, -3.03803804, -3.02802803, -3.01801802, -3.00800801,\n",
              "       -2.997998  , -2.98798799, -2.97797798, -2.96796797, -2.95795796,\n",
              "       -2.94794795, -2.93793794, -2.92792793, -2.91791792, -2.90790791,\n",
              "       -2.8978979 , -2.88788789, -2.87787788, -2.86786787, -2.85785786,\n",
              "       -2.84784785, -2.83783784, -2.82782783, -2.81781782, -2.80780781,\n",
              "       -2.7977978 , -2.78778779, -2.77777778, -2.76776777, -2.75775776,\n",
              "       -2.74774775, -2.73773774, -2.72772773, -2.71771772, -2.70770771,\n",
              "       -2.6976977 , -2.68768769, -2.67767768, -2.66766767, -2.65765766,\n",
              "       -2.64764765, -2.63763764, -2.62762763, -2.61761762, -2.60760761,\n",
              "       -2.5975976 , -2.58758759, -2.57757758, -2.56756757, -2.55755756,\n",
              "       -2.54754755, -2.53753754, -2.52752753, -2.51751752, -2.50750751,\n",
              "       -2.4974975 , -2.48748749, -2.47747748, -2.46746747, -2.45745746,\n",
              "       -2.44744745, -2.43743744, -2.42742743, -2.41741742, -2.40740741,\n",
              "       -2.3973974 , -2.38738739, -2.37737738, -2.36736737, -2.35735736,\n",
              "       -2.34734735, -2.33733734, -2.32732733, -2.31731732, -2.30730731,\n",
              "       -2.2972973 , -2.28728729, -2.27727728, -2.26726727, -2.25725726,\n",
              "       -2.24724725, -2.23723724, -2.22722723, -2.21721722, -2.20720721,\n",
              "       -2.1971972 , -2.18718719, -2.17717718, -2.16716717, -2.15715716,\n",
              "       -2.14714715, -2.13713714, -2.12712713, -2.11711712, -2.10710711,\n",
              "       -2.0970971 , -2.08708709, -2.07707708, -2.06706707, -2.05705706,\n",
              "       -2.04704705, -2.03703704, -2.02702703, -2.01701702, -2.00700701,\n",
              "       -1.996997  , -1.98698699, -1.97697698, -1.96696697, -1.95695696,\n",
              "       -1.94694695, -1.93693694, -1.92692693, -1.91691692, -1.90690691,\n",
              "       -1.8968969 , -1.88688689, -1.87687688, -1.86686687, -1.85685686,\n",
              "       -1.84684685, -1.83683684, -1.82682683, -1.81681682, -1.80680681,\n",
              "       -1.7967968 , -1.78678679, -1.77677678, -1.76676677, -1.75675676,\n",
              "       -1.74674675, -1.73673674, -1.72672673, -1.71671672, -1.70670671,\n",
              "       -1.6966967 , -1.68668669, -1.67667668, -1.66666667, -1.65665666,\n",
              "       -1.64664665, -1.63663664, -1.62662663, -1.61661662, -1.60660661,\n",
              "       -1.5965966 , -1.58658659, -1.57657658, -1.56656657, -1.55655656,\n",
              "       -1.54654655, -1.53653654, -1.52652653, -1.51651652, -1.50650651,\n",
              "       -1.4964965 , -1.48648649, -1.47647648, -1.46646647, -1.45645646,\n",
              "       -1.44644645, -1.43643644, -1.42642643, -1.41641642, -1.40640641,\n",
              "       -1.3963964 , -1.38638639, -1.37637638, -1.36636637, -1.35635636,\n",
              "       -1.34634635, -1.33633634, -1.32632633, -1.31631632, -1.30630631,\n",
              "       -1.2962963 , -1.28628629, -1.27627628, -1.26626627, -1.25625626,\n",
              "       -1.24624625, -1.23623624, -1.22622623, -1.21621622, -1.20620621,\n",
              "       -1.1961962 , -1.18618619, -1.17617618, -1.16616617, -1.15615616,\n",
              "       -1.14614615, -1.13613614, -1.12612613, -1.11611612, -1.10610611,\n",
              "       -1.0960961 , -1.08608609, -1.07607608, -1.06606607, -1.05605606,\n",
              "       -1.04604605, -1.03603604, -1.02602603, -1.01601602, -1.00600601,\n",
              "       -0.995996  , -0.98598599, -0.97597598, -0.96596597, -0.95595596,\n",
              "       -0.94594595, -0.93593594, -0.92592593, -0.91591592, -0.90590591,\n",
              "       -0.8958959 , -0.88588589, -0.87587588, -0.86586587, -0.85585586,\n",
              "       -0.84584585, -0.83583584, -0.82582583, -0.81581582, -0.80580581,\n",
              "       -0.7957958 , -0.78578579, -0.77577578, -0.76576577, -0.75575576,\n",
              "       -0.74574575, -0.73573574, -0.72572573, -0.71571572, -0.70570571,\n",
              "       -0.6956957 , -0.68568569, -0.67567568, -0.66566567, -0.65565566,\n",
              "       -0.64564565, -0.63563564, -0.62562563, -0.61561562, -0.60560561,\n",
              "       -0.5955956 , -0.58558559, -0.57557558, -0.56556557, -0.55555556,\n",
              "       -0.54554555, -0.53553554, -0.52552553, -0.51551552, -0.50550551,\n",
              "       -0.4954955 , -0.48548549, -0.47547548, -0.46546547, -0.45545546,\n",
              "       -0.44544545, -0.43543544, -0.42542543, -0.41541542, -0.40540541,\n",
              "       -0.3953954 , -0.38538539, -0.37537538, -0.36536537, -0.35535536,\n",
              "       -0.34534535, -0.33533534, -0.32532533, -0.31531532, -0.30530531,\n",
              "       -0.2952953 , -0.28528529, -0.27527528, -0.26526527, -0.25525526,\n",
              "       -0.24524525, -0.23523524, -0.22522523, -0.21521522, -0.20520521,\n",
              "       -0.1951952 , -0.18518519, -0.17517518, -0.16516517, -0.15515516,\n",
              "       -0.14514515, -0.13513514, -0.12512513, -0.11511512, -0.10510511,\n",
              "       -0.0950951 , -0.08508509, -0.07507508, -0.06506507, -0.05505506,\n",
              "       -0.04504505, -0.03503504, -0.02502503, -0.01501502, -0.00500501,\n",
              "        0.00500501,  0.01501502,  0.02502503,  0.03503504,  0.04504505,\n",
              "        0.05505506,  0.06506507,  0.07507508,  0.08508509,  0.0950951 ,\n",
              "        0.10510511,  0.11511512,  0.12512513,  0.13513514,  0.14514515,\n",
              "        0.15515516,  0.16516517,  0.17517518,  0.18518519,  0.1951952 ,\n",
              "        0.20520521,  0.21521522,  0.22522523,  0.23523524,  0.24524525,\n",
              "        0.25525526,  0.26526527,  0.27527528,  0.28528529,  0.2952953 ,\n",
              "        0.30530531,  0.31531532,  0.32532533,  0.33533534,  0.34534535,\n",
              "        0.35535536,  0.36536537,  0.37537538,  0.38538539,  0.3953954 ,\n",
              "        0.40540541,  0.41541542,  0.42542543,  0.43543544,  0.44544545,\n",
              "        0.45545546,  0.46546547,  0.47547548,  0.48548549,  0.4954955 ,\n",
              "        0.50550551,  0.51551552,  0.52552553,  0.53553554,  0.54554555,\n",
              "        0.55555556,  0.56556557,  0.57557558,  0.58558559,  0.5955956 ,\n",
              "        0.60560561,  0.61561562,  0.62562563,  0.63563564,  0.64564565,\n",
              "        0.65565566,  0.66566567,  0.67567568,  0.68568569,  0.6956957 ,\n",
              "        0.70570571,  0.71571572,  0.72572573,  0.73573574,  0.74574575,\n",
              "        0.75575576,  0.76576577,  0.77577578,  0.78578579,  0.7957958 ,\n",
              "        0.80580581,  0.81581582,  0.82582583,  0.83583584,  0.84584585,\n",
              "        0.85585586,  0.86586587,  0.87587588,  0.88588589,  0.8958959 ,\n",
              "        0.90590591,  0.91591592,  0.92592593,  0.93593594,  0.94594595,\n",
              "        0.95595596,  0.96596597,  0.97597598,  0.98598599,  0.995996  ,\n",
              "        1.00600601,  1.01601602,  1.02602603,  1.03603604,  1.04604605,\n",
              "        1.05605606,  1.06606607,  1.07607608,  1.08608609,  1.0960961 ,\n",
              "        1.10610611,  1.11611612,  1.12612613,  1.13613614,  1.14614615,\n",
              "        1.15615616,  1.16616617,  1.17617618,  1.18618619,  1.1961962 ,\n",
              "        1.20620621,  1.21621622,  1.22622623,  1.23623624,  1.24624625,\n",
              "        1.25625626,  1.26626627,  1.27627628,  1.28628629,  1.2962963 ,\n",
              "        1.30630631,  1.31631632,  1.32632633,  1.33633634,  1.34634635,\n",
              "        1.35635636,  1.36636637,  1.37637638,  1.38638639,  1.3963964 ,\n",
              "        1.40640641,  1.41641642,  1.42642643,  1.43643644,  1.44644645,\n",
              "        1.45645646,  1.46646647,  1.47647648,  1.48648649,  1.4964965 ,\n",
              "        1.50650651,  1.51651652,  1.52652653,  1.53653654,  1.54654655,\n",
              "        1.55655656,  1.56656657,  1.57657658,  1.58658659,  1.5965966 ,\n",
              "        1.60660661,  1.61661662,  1.62662663,  1.63663664,  1.64664665,\n",
              "        1.65665666,  1.66666667,  1.67667668,  1.68668669,  1.6966967 ,\n",
              "        1.70670671,  1.71671672,  1.72672673,  1.73673674,  1.74674675,\n",
              "        1.75675676,  1.76676677,  1.77677678,  1.78678679,  1.7967968 ,\n",
              "        1.80680681,  1.81681682,  1.82682683,  1.83683684,  1.84684685,\n",
              "        1.85685686,  1.86686687,  1.87687688,  1.88688689,  1.8968969 ,\n",
              "        1.90690691,  1.91691692,  1.92692693,  1.93693694,  1.94694695,\n",
              "        1.95695696,  1.96696697,  1.97697698,  1.98698699,  1.996997  ,\n",
              "        2.00700701,  2.01701702,  2.02702703,  2.03703704,  2.04704705,\n",
              "        2.05705706,  2.06706707,  2.07707708,  2.08708709,  2.0970971 ,\n",
              "        2.10710711,  2.11711712,  2.12712713,  2.13713714,  2.14714715,\n",
              "        2.15715716,  2.16716717,  2.17717718,  2.18718719,  2.1971972 ,\n",
              "        2.20720721,  2.21721722,  2.22722723,  2.23723724,  2.24724725,\n",
              "        2.25725726,  2.26726727,  2.27727728,  2.28728729,  2.2972973 ,\n",
              "        2.30730731,  2.31731732,  2.32732733,  2.33733734,  2.34734735,\n",
              "        2.35735736,  2.36736737,  2.37737738,  2.38738739,  2.3973974 ,\n",
              "        2.40740741,  2.41741742,  2.42742743,  2.43743744,  2.44744745,\n",
              "        2.45745746,  2.46746747,  2.47747748,  2.48748749,  2.4974975 ,\n",
              "        2.50750751,  2.51751752,  2.52752753,  2.53753754,  2.54754755,\n",
              "        2.55755756,  2.56756757,  2.57757758,  2.58758759,  2.5975976 ,\n",
              "        2.60760761,  2.61761762,  2.62762763,  2.63763764,  2.64764765,\n",
              "        2.65765766,  2.66766767,  2.67767768,  2.68768769,  2.6976977 ,\n",
              "        2.70770771,  2.71771772,  2.72772773,  2.73773774,  2.74774775,\n",
              "        2.75775776,  2.76776777,  2.77777778,  2.78778779,  2.7977978 ,\n",
              "        2.80780781,  2.81781782,  2.82782783,  2.83783784,  2.84784785,\n",
              "        2.85785786,  2.86786787,  2.87787788,  2.88788789,  2.8978979 ,\n",
              "        2.90790791,  2.91791792,  2.92792793,  2.93793794,  2.94794795,\n",
              "        2.95795796,  2.96796797,  2.97797798,  2.98798799,  2.997998  ,\n",
              "        3.00800801,  3.01801802,  3.02802803,  3.03803804,  3.04804805,\n",
              "        3.05805806,  3.06806807,  3.07807808,  3.08808809,  3.0980981 ,\n",
              "        3.10810811,  3.11811812,  3.12812813,  3.13813814,  3.14814815,\n",
              "        3.15815816,  3.16816817,  3.17817818,  3.18818819,  3.1981982 ,\n",
              "        3.20820821,  3.21821822,  3.22822823,  3.23823824,  3.24824825,\n",
              "        3.25825826,  3.26826827,  3.27827828,  3.28828829,  3.2982983 ,\n",
              "        3.30830831,  3.31831832,  3.32832833,  3.33833834,  3.34834835,\n",
              "        3.35835836,  3.36836837,  3.37837838,  3.38838839,  3.3983984 ,\n",
              "        3.40840841,  3.41841842,  3.42842843,  3.43843844,  3.44844845,\n",
              "        3.45845846,  3.46846847,  3.47847848,  3.48848849,  3.4984985 ,\n",
              "        3.50850851,  3.51851852,  3.52852853,  3.53853854,  3.54854855,\n",
              "        3.55855856,  3.56856857,  3.57857858,  3.58858859,  3.5985986 ,\n",
              "        3.60860861,  3.61861862,  3.62862863,  3.63863864,  3.64864865,\n",
              "        3.65865866,  3.66866867,  3.67867868,  3.68868869,  3.6986987 ,\n",
              "        3.70870871,  3.71871872,  3.72872873,  3.73873874,  3.74874875,\n",
              "        3.75875876,  3.76876877,  3.77877878,  3.78878879,  3.7987988 ,\n",
              "        3.80880881,  3.81881882,  3.82882883,  3.83883884,  3.84884885,\n",
              "        3.85885886,  3.86886887,  3.87887888,  3.88888889,  3.8988989 ,\n",
              "        3.90890891,  3.91891892,  3.92892893,  3.93893894,  3.94894895,\n",
              "        3.95895896,  3.96896897,  3.97897898,  3.98898899,  3.998999  ,\n",
              "        4.00900901,  4.01901902,  4.02902903,  4.03903904,  4.04904905,\n",
              "        4.05905906,  4.06906907,  4.07907908,  4.08908909,  4.0990991 ,\n",
              "        4.10910911,  4.11911912,  4.12912913,  4.13913914,  4.14914915,\n",
              "        4.15915916,  4.16916917,  4.17917918,  4.18918919,  4.1991992 ,\n",
              "        4.20920921,  4.21921922,  4.22922923,  4.23923924,  4.24924925,\n",
              "        4.25925926,  4.26926927,  4.27927928,  4.28928929,  4.2992993 ,\n",
              "        4.30930931,  4.31931932,  4.32932933,  4.33933934,  4.34934935,\n",
              "        4.35935936,  4.36936937,  4.37937938,  4.38938939,  4.3993994 ,\n",
              "        4.40940941,  4.41941942,  4.42942943,  4.43943944,  4.44944945,\n",
              "        4.45945946,  4.46946947,  4.47947948,  4.48948949,  4.4994995 ,\n",
              "        4.50950951,  4.51951952,  4.52952953,  4.53953954,  4.54954955,\n",
              "        4.55955956,  4.56956957,  4.57957958,  4.58958959,  4.5995996 ,\n",
              "        4.60960961,  4.61961962,  4.62962963,  4.63963964,  4.64964965,\n",
              "        4.65965966,  4.66966967,  4.67967968,  4.68968969,  4.6996997 ,\n",
              "        4.70970971,  4.71971972,  4.72972973,  4.73973974,  4.74974975,\n",
              "        4.75975976,  4.76976977,  4.77977978,  4.78978979,  4.7997998 ,\n",
              "        4.80980981,  4.81981982,  4.82982983,  4.83983984,  4.84984985,\n",
              "        4.85985986,  4.86986987,  4.87987988,  4.88988989,  4.8998999 ,\n",
              "        4.90990991,  4.91991992,  4.92992993,  4.93993994,  4.94994995,\n",
              "        4.95995996,  4.96996997,  4.97997998,  4.98998999,  5.        ])"
            ]
          },
          "metadata": {},
          "execution_count": 12
        }
      ]
    },
    {
      "cell_type": "markdown",
      "source": [
        "What!?  Remeber we defined `x` above?  It just passed all those values into the composition.  Is this what we expected?  Yes, it should return the same value you give it, \n",
        "$$\n",
        "f(f^{-1}(x)) = f^{-1}(f(x)) = x\n",
        "$$"
      ],
      "metadata": {
        "id": "vKOiNcu4SBlw"
      }
    },
    {
      "cell_type": "markdown",
      "source": [
        "In python we can ask if somthing is equal (or equivalent) with double equals."
      ],
      "metadata": {
        "id": "ThclfS7NSk5U"
      }
    },
    {
      "cell_type": "code",
      "source": [
        "f(finverse(x)) == x"
      ],
      "metadata": {
        "colab": {
          "base_uri": "https://localhost:8080/"
        },
        "id": "eV0tbV6hR7Bt",
        "outputId": "95bb2cfb-bcdc-4359-fd44-1bb2d9145bbf"
      },
      "execution_count": null,
      "outputs": [
        {
          "output_type": "execute_result",
          "data": {
            "text/plain": [
              "array([False, False,  True, False, False, False, False, False, False,\n",
              "       False, False, False, False, False, False, False, False, False,\n",
              "       False, False, False, False, False, False, False, False, False,\n",
              "       False, False, False, False, False, False, False, False, False,\n",
              "       False, False, False, False, False, False,  True, False, False,\n",
              "       False, False, False, False, False, False, False,  True, False,\n",
              "       False, False, False, False, False, False, False, False, False,\n",
              "       False, False, False, False, False, False, False, False, False,\n",
              "       False, False, False, False, False, False, False, False, False,\n",
              "       False, False, False, False, False, False, False, False,  True,\n",
              "       False, False, False, False, False, False, False, False, False,\n",
              "       False, False, False, False, False, False, False, False, False,\n",
              "       False, False, False, False, False, False, False, False, False,\n",
              "       False, False, False, False, False, False, False, False, False,\n",
              "       False, False, False, False, False, False, False, False, False,\n",
              "       False, False, False, False, False, False, False, False, False,\n",
              "       False, False, False, False, False, False, False, False, False,\n",
              "       False, False, False, False, False, False, False, False, False,\n",
              "       False, False, False, False, False, False, False, False, False,\n",
              "       False, False, False, False, False, False, False, False, False,\n",
              "       False, False,  True, False, False, False, False, False, False,\n",
              "       False, False, False,  True, False, False, False, False,  True,\n",
              "       False, False, False, False, False, False, False, False, False,\n",
              "       False,  True, False, False, False, False, False, False, False,\n",
              "       False, False, False, False, False, False, False, False, False,\n",
              "       False, False, False, False, False, False, False, False, False,\n",
              "       False, False, False, False, False, False, False, False, False,\n",
              "       False, False, False, False, False, False, False, False, False,\n",
              "       False, False, False, False, False, False, False, False, False,\n",
              "       False, False, False, False, False, False, False, False, False,\n",
              "       False, False, False, False, False, False, False, False, False,\n",
              "       False, False, False, False, False, False, False, False, False,\n",
              "       False, False, False, False, False, False, False, False, False,\n",
              "       False, False, False, False, False, False, False, False, False,\n",
              "       False, False, False, False, False, False, False, False, False,\n",
              "       False, False, False, False, False, False, False, False, False,\n",
              "       False, False, False, False, False, False, False, False, False,\n",
              "       False, False, False, False, False, False, False, False, False,\n",
              "       False,  True, False, False, False, False, False, False, False,\n",
              "       False, False, False, False, False, False, False, False, False,\n",
              "       False, False, False, False, False, False, False, False, False,\n",
              "        True, False, False, False, False, False, False, False, False,\n",
              "       False, False, False, False, False, False, False, False, False,\n",
              "       False, False, False, False, False, False, False, False, False,\n",
              "       False, False,  True, False, False, False, False, False, False,\n",
              "       False, False, False, False, False, False, False, False, False,\n",
              "       False, False, False, False, False, False, False, False, False,\n",
              "       False, False, False, False, False, False, False, False, False,\n",
              "       False, False, False, False, False, False, False, False,  True,\n",
              "       False,  True, False, False,  True, False, False, False, False,\n",
              "       False, False, False, False, False, False, False, False, False,\n",
              "       False, False, False, False, False, False, False, False, False,\n",
              "       False,  True, False, False, False, False, False, False, False,\n",
              "       False, False, False, False, False,  True, False, False, False,\n",
              "       False, False, False, False, False, False, False, False, False,\n",
              "       False, False, False, False, False, False, False, False, False,\n",
              "       False, False, False, False, False, False, False, False, False,\n",
              "       False, False, False, False, False, False, False, False, False,\n",
              "        True, False, False,  True,  True, False, False, False,  True,\n",
              "        True, False, False, False, False, False,  True,  True,  True,\n",
              "        True,  True,  True,  True,  True, False,  True,  True,  True,\n",
              "        True,  True, False,  True,  True,  True,  True,  True,  True,\n",
              "        True,  True,  True, False,  True,  True,  True,  True,  True,\n",
              "        True,  True,  True,  True,  True,  True,  True,  True,  True,\n",
              "       False, False,  True,  True,  True,  True,  True,  True,  True,\n",
              "        True,  True, False,  True,  True,  True,  True,  True,  True,\n",
              "        True,  True,  True,  True,  True,  True,  True,  True,  True,\n",
              "        True,  True,  True,  True,  True,  True,  True,  True,  True,\n",
              "        True,  True,  True,  True,  True,  True,  True,  True,  True,\n",
              "        True,  True,  True,  True,  True,  True,  True,  True,  True,\n",
              "        True,  True,  True,  True,  True,  True,  True,  True,  True,\n",
              "        True,  True,  True,  True,  True,  True,  True,  True,  True,\n",
              "        True,  True,  True,  True,  True,  True,  True,  True,  True,\n",
              "        True, False,  True,  True, False, False,  True, False, False,\n",
              "        True, False,  True,  True,  True,  True,  True, False, False,\n",
              "       False, False,  True, False, False, False, False,  True, False,\n",
              "       False, False, False, False, False,  True,  True, False, False,\n",
              "       False,  True, False, False, False, False, False,  True,  True,\n",
              "        True,  True,  True,  True,  True,  True,  True,  True, False,\n",
              "        True,  True,  True,  True,  True,  True,  True,  True,  True,\n",
              "        True,  True,  True,  True,  True,  True,  True,  True, False,\n",
              "       False,  True, False,  True,  True,  True,  True, False, False,\n",
              "       False,  True, False,  True, False,  True, False,  True, False,\n",
              "        True, False, False, False, False, False,  True, False,  True,\n",
              "       False, False, False,  True,  True,  True,  True,  True, False,\n",
              "       False, False, False, False, False, False, False, False, False,\n",
              "       False, False, False, False, False, False, False, False, False,\n",
              "       False, False, False, False, False, False, False, False, False,\n",
              "       False, False, False, False, False, False, False, False,  True,\n",
              "       False, False, False, False, False, False,  True, False,  True,\n",
              "       False, False, False, False, False, False, False,  True, False,\n",
              "       False, False, False, False, False, False, False, False,  True,\n",
              "       False,  True,  True, False, False, False, False, False, False,\n",
              "       False, False, False, False, False, False, False, False,  True,\n",
              "       False, False, False, False, False,  True, False, False, False,\n",
              "       False, False,  True, False, False, False, False,  True, False,\n",
              "       False, False, False, False, False, False,  True, False,  True,\n",
              "       False, False, False, False, False, False, False, False, False,\n",
              "       False, False, False, False, False, False, False, False, False,\n",
              "        True, False,  True, False, False, False, False, False, False,\n",
              "       False, False, False,  True, False, False, False, False, False,\n",
              "       False, False, False, False,  True, False, False,  True, False,\n",
              "       False, False,  True,  True, False,  True, False, False, False,\n",
              "       False,  True, False,  True, False, False, False, False,  True,\n",
              "       False, False, False, False, False, False, False, False, False,\n",
              "        True, False, False, False,  True, False, False, False, False,\n",
              "       False, False,  True, False, False, False, False, False,  True,\n",
              "        True, False, False, False, False, False, False, False, False,\n",
              "       False,  True, False, False,  True, False, False, False,  True,\n",
              "        True, False, False,  True, False, False, False, False, False,\n",
              "       False, False, False, False, False, False, False, False, False,\n",
              "        True])"
            ]
          },
          "metadata": {},
          "execution_count": 13
        }
      ]
    },
    {
      "cell_type": "markdown",
      "source": [
        "So what gives, why are not all equal?  Rounding errors!  Let's simplify what we pass."
      ],
      "metadata": {
        "id": "t1utgPZiSvwi"
      }
    },
    {
      "cell_type": "code",
      "source": [
        "x = np.round(x,3) #rounding to three decimals\n",
        "\n",
        "y = np.round(f(finverse(x)),3)\n",
        "\n",
        "x == y"
      ],
      "metadata": {
        "colab": {
          "base_uri": "https://localhost:8080/"
        },
        "id": "7NmYJieaSiEI",
        "outputId": "f5e1775f-cf08-4967-89f1-9cbeecdbaa6a"
      },
      "execution_count": null,
      "outputs": [
        {
          "output_type": "execute_result",
          "data": {
            "text/plain": [
              "array([ True,  True,  True,  True,  True,  True,  True,  True,  True,\n",
              "        True,  True,  True,  True,  True,  True,  True,  True,  True,\n",
              "        True,  True,  True,  True,  True,  True,  True,  True,  True,\n",
              "        True,  True,  True,  True,  True,  True,  True,  True,  True,\n",
              "        True,  True,  True,  True,  True,  True,  True,  True,  True,\n",
              "        True,  True,  True,  True,  True,  True,  True,  True,  True,\n",
              "        True,  True,  True,  True,  True,  True,  True,  True,  True,\n",
              "        True,  True,  True,  True,  True,  True,  True,  True,  True,\n",
              "        True,  True,  True,  True,  True,  True,  True,  True,  True,\n",
              "        True,  True,  True,  True,  True,  True,  True,  True,  True,\n",
              "        True,  True,  True,  True,  True,  True,  True,  True,  True,\n",
              "        True,  True,  True,  True,  True,  True,  True,  True,  True,\n",
              "        True,  True,  True,  True,  True,  True,  True,  True,  True,\n",
              "        True,  True,  True,  True,  True,  True,  True,  True,  True,\n",
              "        True,  True,  True,  True,  True,  True,  True,  True,  True,\n",
              "        True,  True,  True,  True,  True,  True,  True,  True,  True,\n",
              "        True,  True,  True,  True,  True,  True,  True,  True,  True,\n",
              "        True,  True,  True,  True,  True,  True,  True,  True,  True,\n",
              "        True,  True,  True,  True,  True,  True,  True,  True,  True,\n",
              "        True,  True,  True,  True,  True,  True,  True,  True,  True,\n",
              "        True,  True,  True,  True,  True,  True,  True,  True,  True,\n",
              "        True,  True,  True,  True,  True,  True,  True,  True,  True,\n",
              "        True,  True,  True,  True,  True,  True,  True,  True,  True,\n",
              "        True,  True,  True,  True,  True,  True,  True,  True,  True,\n",
              "        True,  True,  True,  True,  True,  True,  True,  True,  True,\n",
              "        True,  True,  True,  True,  True,  True,  True,  True,  True,\n",
              "        True,  True,  True,  True,  True,  True,  True,  True,  True,\n",
              "        True,  True,  True,  True,  True,  True,  True,  True,  True,\n",
              "        True,  True,  True,  True,  True,  True,  True,  True,  True,\n",
              "        True,  True,  True,  True,  True,  True,  True,  True,  True,\n",
              "        True,  True,  True,  True,  True,  True,  True,  True,  True,\n",
              "        True,  True,  True,  True,  True,  True,  True,  True,  True,\n",
              "        True,  True,  True,  True,  True,  True,  True,  True,  True,\n",
              "        True,  True,  True,  True,  True,  True,  True,  True,  True,\n",
              "        True,  True,  True,  True,  True,  True,  True,  True,  True,\n",
              "        True,  True,  True,  True,  True,  True,  True,  True,  True,\n",
              "        True,  True,  True,  True,  True,  True,  True,  True,  True,\n",
              "        True,  True,  True,  True,  True,  True,  True,  True,  True,\n",
              "        True,  True,  True,  True,  True,  True,  True,  True,  True,\n",
              "        True,  True,  True,  True,  True,  True,  True,  True,  True,\n",
              "        True,  True,  True,  True,  True,  True,  True,  True,  True,\n",
              "        True,  True,  True,  True,  True,  True,  True,  True,  True,\n",
              "        True,  True,  True,  True,  True,  True,  True,  True,  True,\n",
              "        True,  True,  True,  True,  True,  True,  True,  True,  True,\n",
              "        True,  True,  True,  True,  True,  True,  True,  True,  True,\n",
              "        True,  True,  True,  True,  True,  True,  True,  True,  True,\n",
              "        True,  True,  True,  True,  True,  True,  True,  True,  True,\n",
              "        True,  True,  True,  True,  True,  True,  True,  True,  True,\n",
              "        True,  True,  True,  True,  True,  True,  True,  True,  True,\n",
              "        True,  True,  True,  True,  True,  True,  True,  True,  True,\n",
              "        True,  True,  True,  True,  True,  True,  True,  True,  True,\n",
              "        True,  True,  True,  True,  True,  True,  True,  True,  True,\n",
              "        True,  True,  True,  True,  True,  True,  True,  True,  True,\n",
              "        True,  True,  True,  True,  True,  True,  True,  True,  True,\n",
              "        True,  True,  True,  True,  True,  True,  True,  True,  True,\n",
              "        True,  True,  True,  True,  True,  True,  True,  True,  True,\n",
              "        True,  True,  True,  True,  True,  True,  True,  True,  True,\n",
              "        True,  True,  True,  True,  True,  True,  True,  True,  True,\n",
              "        True,  True,  True,  True,  True,  True,  True,  True,  True,\n",
              "        True,  True,  True,  True,  True,  True,  True,  True,  True,\n",
              "        True,  True,  True,  True,  True,  True,  True,  True,  True,\n",
              "        True,  True,  True,  True,  True,  True,  True,  True,  True,\n",
              "        True,  True,  True,  True,  True,  True,  True,  True,  True,\n",
              "        True,  True,  True,  True,  True,  True,  True,  True,  True,\n",
              "        True,  True,  True,  True,  True,  True,  True,  True,  True,\n",
              "        True,  True,  True,  True,  True,  True,  True,  True,  True,\n",
              "        True,  True,  True,  True,  True,  True,  True,  True,  True,\n",
              "        True,  True,  True,  True,  True,  True,  True,  True,  True,\n",
              "        True,  True,  True,  True,  True,  True,  True,  True,  True,\n",
              "        True,  True,  True,  True,  True,  True,  True,  True,  True,\n",
              "        True,  True,  True,  True,  True,  True,  True,  True,  True,\n",
              "        True,  True,  True,  True,  True,  True,  True,  True,  True,\n",
              "        True,  True,  True,  True,  True,  True,  True,  True,  True,\n",
              "        True,  True,  True,  True,  True,  True,  True,  True,  True,\n",
              "        True,  True,  True,  True,  True,  True,  True,  True,  True,\n",
              "        True,  True,  True,  True,  True,  True,  True,  True,  True,\n",
              "        True,  True,  True,  True,  True,  True,  True,  True,  True,\n",
              "        True,  True,  True,  True,  True,  True,  True,  True,  True,\n",
              "        True,  True,  True,  True,  True,  True,  True,  True,  True,\n",
              "        True,  True,  True,  True,  True,  True,  True,  True,  True,\n",
              "        True,  True,  True,  True,  True,  True,  True,  True,  True,\n",
              "        True,  True,  True,  True,  True,  True,  True,  True,  True,\n",
              "        True,  True,  True,  True,  True,  True,  True,  True,  True,\n",
              "        True,  True,  True,  True,  True,  True,  True,  True,  True,\n",
              "        True,  True,  True,  True,  True,  True,  True,  True,  True,\n",
              "        True,  True,  True,  True,  True,  True,  True,  True,  True,\n",
              "        True,  True,  True,  True,  True,  True,  True,  True,  True,\n",
              "        True,  True,  True,  True,  True,  True,  True,  True,  True,\n",
              "        True,  True,  True,  True,  True,  True,  True,  True,  True,\n",
              "        True,  True,  True,  True,  True,  True,  True,  True,  True,\n",
              "        True,  True,  True,  True,  True,  True,  True,  True,  True,\n",
              "        True,  True,  True,  True,  True,  True,  True,  True,  True,\n",
              "        True,  True,  True,  True,  True,  True,  True,  True,  True,\n",
              "        True,  True,  True,  True,  True,  True,  True,  True,  True,\n",
              "        True,  True,  True,  True,  True,  True,  True,  True,  True,\n",
              "        True,  True,  True,  True,  True,  True,  True,  True,  True,\n",
              "        True,  True,  True,  True,  True,  True,  True,  True,  True,\n",
              "        True,  True,  True,  True,  True,  True,  True,  True,  True,\n",
              "        True,  True,  True,  True,  True,  True,  True,  True,  True,\n",
              "        True,  True,  True,  True,  True,  True,  True,  True,  True,\n",
              "        True,  True,  True,  True,  True,  True,  True,  True,  True,\n",
              "        True,  True,  True,  True,  True,  True,  True,  True,  True,\n",
              "        True,  True,  True,  True,  True,  True,  True,  True,  True,\n",
              "        True,  True,  True,  True,  True,  True,  True,  True,  True,\n",
              "        True,  True,  True,  True,  True,  True,  True,  True,  True,\n",
              "        True,  True,  True,  True,  True,  True,  True,  True,  True,\n",
              "        True,  True,  True,  True,  True,  True,  True,  True,  True,\n",
              "        True,  True,  True,  True,  True,  True,  True,  True,  True,\n",
              "        True,  True,  True,  True,  True,  True,  True,  True,  True,\n",
              "        True,  True,  True,  True,  True,  True,  True,  True,  True,\n",
              "        True,  True,  True,  True,  True,  True,  True,  True,  True,\n",
              "        True])"
            ]
          },
          "metadata": {},
          "execution_count": 16
        }
      ]
    },
    {
      "cell_type": "markdown",
      "source": [
        "That looks like all trues!"
      ],
      "metadata": {
        "id": "Q2QKwLJ8TTL1"
      }
    },
    {
      "cell_type": "code",
      "source": [
        "all(x == y)"
      ],
      "metadata": {
        "colab": {
          "base_uri": "https://localhost:8080/"
        },
        "id": "UMKolJfIS6Ab",
        "outputId": "213d4dcd-3a14-4d87-df92-1a3b08c00957"
      },
      "execution_count": null,
      "outputs": [
        {
          "output_type": "execute_result",
          "data": {
            "text/plain": [
              "True"
            ]
          },
          "metadata": {},
          "execution_count": 17
        }
      ]
    },
    {
      "cell_type": "markdown",
      "source": [
        "The above checked that they are all true.  Be wary of rounding, you are throwing away info.  I only did it here to make things work!"
      ],
      "metadata": {
        "id": "oCqeT3n5Tc1d"
      }
    },
    {
      "cell_type": "markdown",
      "source": [
        "## Sympy\n",
        "\n",
        "To do much of the calculus in this course, we will need to use the sympy package."
      ],
      "metadata": {
        "id": "jgxGCe-k8e2K"
      }
    },
    {
      "cell_type": "code",
      "source": [
        "from sympy import *"
      ],
      "metadata": {
        "id": "ssshrQ_2TbRa"
      },
      "execution_count": 3,
      "outputs": []
    },
    {
      "cell_type": "markdown",
      "source": [
        "Then I can define $f(x)$ in a simialar way I did above but first I must declare that $x$ is a symbol. "
      ],
      "metadata": {
        "id": "61BZ22Cr9Vxo"
      }
    },
    {
      "cell_type": "code",
      "source": [
        "x = symbols('x')\n",
        "\n",
        "f = (x-2)/(x-3)\n"
      ],
      "metadata": {
        "id": "A0-7DhqE8o96"
      },
      "execution_count": 5,
      "outputs": []
    },
    {
      "cell_type": "code",
      "source": [
        "f"
      ],
      "metadata": {
        "id": "W9js8OX-9siZ",
        "outputId": "f88464ca-82b4-4cb8-8527-4f98c8c6ce68",
        "colab": {
          "base_uri": "https://localhost:8080/",
          "height": 52
        }
      },
      "execution_count": 6,
      "outputs": [
        {
          "output_type": "execute_result",
          "data": {
            "text/plain": [
              "(x - 2)/(x - 3)"
            ],
            "text/latex": "$\\displaystyle \\frac{x - 2}{x - 3}$"
          },
          "metadata": {},
          "execution_count": 6
        }
      ]
    },
    {
      "cell_type": "markdown",
      "source": [
        "`simplify` attempts to simplify the expression."
      ],
      "metadata": {
        "id": "MWxuJuu__NEL"
      }
    },
    {
      "cell_type": "code",
      "source": [
        "f.simplify()"
      ],
      "metadata": {
        "id": "goT1OOah94q5",
        "outputId": "a96a727d-9500-4d89-b005-e1e45bbbc492",
        "colab": {
          "base_uri": "https://localhost:8080/",
          "height": 52
        }
      },
      "execution_count": 7,
      "outputs": [
        {
          "output_type": "execute_result",
          "data": {
            "text/plain": [
              "(x - 2)/(x - 3)"
            ],
            "text/latex": "$\\displaystyle \\frac{x - 2}{x - 3}$"
          },
          "metadata": {},
          "execution_count": 7
        }
      ]
    },
    {
      "cell_type": "markdown",
      "source": [
        "`expand` would do any multiplications"
      ],
      "metadata": {
        "id": "vvkFSHYU_Tcg"
      }
    },
    {
      "cell_type": "code",
      "source": [
        "f.expand()"
      ],
      "metadata": {
        "id": "WMWozCky97Nk",
        "outputId": "cfb4e77a-81c9-408d-ff24-2d2a5d9c88b7",
        "colab": {
          "base_uri": "https://localhost:8080/",
          "height": 52
        }
      },
      "execution_count": 8,
      "outputs": [
        {
          "output_type": "execute_result",
          "data": {
            "text/plain": [
              "x/(x - 3) - 2/(x - 3)"
            ],
            "text/latex": "$\\displaystyle \\frac{x}{x - 3} - \\frac{2}{x - 3}$"
          },
          "metadata": {},
          "execution_count": 8
        }
      ]
    },
    {
      "cell_type": "markdown",
      "source": [
        "`factor` would factor a polynomial"
      ],
      "metadata": {
        "id": "aI4e8AYT_Xgs"
      }
    },
    {
      "cell_type": "code",
      "source": [
        "f.factor()"
      ],
      "metadata": {
        "id": "7zdAKeQJ9-ov",
        "outputId": "df2e748b-a406-455d-8b03-2114192dbfaf",
        "colab": {
          "base_uri": "https://localhost:8080/",
          "height": 52
        }
      },
      "execution_count": 9,
      "outputs": [
        {
          "output_type": "execute_result",
          "data": {
            "text/plain": [
              "(x - 2)/(x - 3)"
            ],
            "text/latex": "$\\displaystyle \\frac{x - 2}{x - 3}$"
          },
          "metadata": {},
          "execution_count": 9
        }
      ]
    },
    {
      "cell_type": "markdown",
      "source": [
        "`subs` plugs in a value for the variable."
      ],
      "metadata": {
        "id": "myxyX-Cl_cUg"
      }
    },
    {
      "cell_type": "code",
      "source": [
        "f.subs(x,1)"
      ],
      "metadata": {
        "id": "y2R74YvF-BYu",
        "outputId": "205fb7ce-0d79-4c41-dc32-57ee0fb3eaf4",
        "colab": {
          "base_uri": "https://localhost:8080/",
          "height": 51
        }
      },
      "execution_count": 10,
      "outputs": [
        {
          "output_type": "execute_result",
          "data": {
            "text/plain": [
              "1/2"
            ],
            "text/latex": "$\\displaystyle \\frac{1}{2}$"
          },
          "metadata": {},
          "execution_count": 10
        }
      ]
    },
    {
      "cell_type": "markdown",
      "source": [
        "Of course I could compose the function with itself too!"
      ],
      "metadata": {
        "id": "tFeAmXHA_jQc"
      }
    },
    {
      "cell_type": "code",
      "source": [
        "f.subs(x,f)"
      ],
      "metadata": {
        "id": "PFXpBqKb_D8n",
        "outputId": "8dba5a11-0179-4b70-8394-743c227116da",
        "colab": {
          "base_uri": "https://localhost:8080/",
          "height": 64
        }
      },
      "execution_count": 12,
      "outputs": [
        {
          "output_type": "execute_result",
          "data": {
            "text/plain": [
              "(-2 + (x - 2)/(x - 3))/(-3 + (x - 2)/(x - 3))"
            ],
            "text/latex": "$\\displaystyle \\frac{-2 + \\frac{x - 2}{x - 3}}{-3 + \\frac{x - 2}{x - 3}}$"
          },
          "metadata": {},
          "execution_count": 12
        }
      ]
    },
    {
      "cell_type": "markdown",
      "source": [
        "And I might need to simplify!"
      ],
      "metadata": {
        "id": "ueyrS3It_sME"
      }
    },
    {
      "cell_type": "code",
      "source": [
        "f.subs(x,f).simplify()"
      ],
      "metadata": {
        "id": "LFH1kkVM_qXq",
        "outputId": "6b15dbaa-10cf-44bf-f57a-06fe3b8a9115",
        "colab": {
          "base_uri": "https://localhost:8080/",
          "height": 52
        }
      },
      "execution_count": 13,
      "outputs": [
        {
          "output_type": "execute_result",
          "data": {
            "text/plain": [
              "(x - 4)/(2*x - 7)"
            ],
            "text/latex": "$\\displaystyle \\frac{x - 4}{2 x - 7}$"
          },
          "metadata": {},
          "execution_count": 13
        }
      ]
    },
    {
      "cell_type": "markdown",
      "source": [
        "Might be useful to mention there are lots of built-in functions!"
      ],
      "metadata": {
        "id": "yvakBNx8_5W4"
      }
    },
    {
      "cell_type": "code",
      "source": [
        "g = sin(x)"
      ],
      "metadata": {
        "id": "J2to9RZA_xzI"
      },
      "execution_count": 14,
      "outputs": []
    },
    {
      "cell_type": "code",
      "source": [
        "g.subs(x,0)"
      ],
      "metadata": {
        "id": "Oa68grVHABOr",
        "outputId": "f09a11db-fd10-40d6-a165-1f94de7fc358",
        "colab": {
          "base_uri": "https://localhost:8080/",
          "height": 37
        }
      },
      "execution_count": 15,
      "outputs": [
        {
          "output_type": "execute_result",
          "data": {
            "text/plain": [
              "0"
            ],
            "text/latex": "$\\displaystyle 0$"
          },
          "metadata": {},
          "execution_count": 15
        }
      ]
    },
    {
      "cell_type": "code",
      "source": [
        "h = sqrt(x**2-1)"
      ],
      "metadata": {
        "id": "QCQaejrVAD6a"
      },
      "execution_count": 16,
      "outputs": []
    },
    {
      "cell_type": "code",
      "source": [
        "h.expand()"
      ],
      "metadata": {
        "id": "q7_I3i5gAHzf",
        "outputId": "98224fb6-5799-4239-e91f-0ec5f5f0a565",
        "colab": {
          "base_uri": "https://localhost:8080/",
          "height": 40
        }
      },
      "execution_count": 17,
      "outputs": [
        {
          "output_type": "execute_result",
          "data": {
            "text/plain": [
              "sqrt(x**2 - 1)"
            ],
            "text/latex": "$\\displaystyle \\sqrt{x^{2} - 1}$"
          },
          "metadata": {},
          "execution_count": 17
        }
      ]
    },
    {
      "cell_type": "code",
      "source": [
        "e = exp(-x**2)\n",
        "\n",
        "e"
      ],
      "metadata": {
        "id": "2_QWvid6AKA3",
        "outputId": "5df8ee70-e931-482d-f1cc-638954f91053",
        "colab": {
          "base_uri": "https://localhost:8080/",
          "height": 40
        }
      },
      "execution_count": 19,
      "outputs": [
        {
          "output_type": "execute_result",
          "data": {
            "text/plain": [
              "exp(-x**2)"
            ],
            "text/latex": "$\\displaystyle e^{- x^{2}}$"
          },
          "metadata": {},
          "execution_count": 19
        }
      ]
    },
    {
      "cell_type": "markdown",
      "source": [
        "## Doing a Bunch of Values"
      ],
      "metadata": {
        "id": "LagVjf-JErPw"
      }
    },
    {
      "cell_type": "markdown",
      "source": [
        "For loops are really powerful (and fairly easy) in python.  You can interate over any list of items!"
      ],
      "metadata": {
        "id": "_xNOWQ0SEupW"
      }
    },
    {
      "cell_type": "code",
      "source": [
        "mylist = [1,0.1,0.001,0.0001]\n",
        "\n",
        "for i in mylist:\n",
        "  print(i)\n"
      ],
      "metadata": {
        "id": "XkNIQSx_ARIO",
        "outputId": "4611e88c-a35e-405f-818b-65da0e0bc1aa",
        "colab": {
          "base_uri": "https://localhost:8080/"
        }
      },
      "execution_count": 57,
      "outputs": [
        {
          "output_type": "stream",
          "name": "stdout",
          "text": [
            "1\n",
            "0.1\n",
            "0.001\n",
            "0.0001\n"
          ]
        }
      ]
    },
    {
      "cell_type": "markdown",
      "source": [
        "Of course that is boring!  We actually want to do something with those values!"
      ],
      "metadata": {
        "id": "kQb95kNLFpQg"
      }
    },
    {
      "cell_type": "code",
      "source": [
        "newlist = [] #give myself an empty list! \n",
        "for i in mylist:\n",
        "  x = i + 1\n",
        "  newlist.append(x) #adds the value x to the newlist\n",
        "\n",
        "print(newlist)"
      ],
      "metadata": {
        "id": "a9b5JcY_FvFC",
        "outputId": "859e0bf6-9a94-426f-f576-b08df9ecedde",
        "colab": {
          "base_uri": "https://localhost:8080/"
        }
      },
      "execution_count": 52,
      "outputs": [
        {
          "output_type": "stream",
          "name": "stdout",
          "text": [
            "[3, 2, 1.1, 1.001]\n"
          ]
        }
      ]
    },
    {
      "cell_type": "markdown",
      "source": [
        "You might want to define a function that computes the slope.  This is not the best but you could make it work for you..."
      ],
      "metadata": {
        "id": "kj6ptE9ZGIrX"
      }
    },
    {
      "cell_type": "code",
      "source": [
        "def slope(function,pointofinterest,stepsize):\n",
        "  top = function(pointofinterest+stepsize) - function(pointofinterest)\n",
        "  bottom = stepsize\n",
        "  return top/bottom"
      ],
      "metadata": {
        "id": "XP4Cm4kRGHep"
      },
      "execution_count": null,
      "outputs": []
    },
    {
      "cell_type": "markdown",
      "source": [
        "I always try my function..."
      ],
      "metadata": {
        "id": "n_WYHasrGUPj"
      }
    },
    {
      "cell_type": "code",
      "source": [
        "slope(f,1,.2)"
      ],
      "metadata": {
        "id": "tVHLd2cVFYWx",
        "outputId": "8c4f5f87-7925-4149-cff1-bd9db646ce4e",
        "colab": {
          "base_uri": "https://localhost:8080/"
        }
      },
      "execution_count": 49,
      "outputs": [
        {
          "output_type": "execute_result",
          "data": {
            "text/plain": [
              "-0.2777777777777776"
            ]
          },
          "metadata": {},
          "execution_count": 49
        }
      ]
    },
    {
      "cell_type": "markdown",
      "source": [
        "Now I'll do it for all the values in `mylist`"
      ],
      "metadata": {
        "id": "4nzvZGJtGXE0"
      }
    },
    {
      "cell_type": "code",
      "source": [
        "answers = []\n",
        "for i in mylist:\n",
        "  answer = slope(f,1,i)\n",
        "  answers.append(answer)\n",
        "\n",
        "answers"
      ],
      "metadata": {
        "id": "yRVI3yjEFcTL",
        "outputId": "cde5c646-6cc9-4667-cf9e-5eeed8433c66",
        "colab": {
          "base_uri": "https://localhost:8080/"
        }
      },
      "execution_count": 58,
      "outputs": [
        {
          "output_type": "execute_result",
          "data": {
            "text/plain": [
              "[-0.5, -0.26315789473684237, -0.2501250625312479, -0.25001250062495206]"
            ]
          },
          "metadata": {},
          "execution_count": 58
        }
      ]
    },
    {
      "cell_type": "markdown",
      "source": [
        "These seem like they are approaching a value!  More on that to come!"
      ],
      "metadata": {
        "id": "rbHCZH1jHGpQ"
      }
    },
    {
      "cell_type": "code",
      "source": [
        ""
      ],
      "metadata": {
        "id": "LqJRiOiFGob6",
        "outputId": "e95b09fe-c864-48fa-cde3-7395dc9e2184",
        "colab": {
          "base_uri": "https://localhost:8080/"
        }
      },
      "execution_count": 56,
      "outputs": [
        {
          "output_type": "execute_result",
          "data": {
            "text/plain": [
              "2"
            ]
          },
          "metadata": {},
          "execution_count": 56
        }
      ]
    },
    {
      "cell_type": "code",
      "source": [
        ""
      ],
      "metadata": {
        "id": "H6ZTfWMTG4pO"
      },
      "execution_count": null,
      "outputs": []
    }
  ]
}