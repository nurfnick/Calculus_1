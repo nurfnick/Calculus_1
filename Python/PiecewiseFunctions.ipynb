{
  "nbformat": 4,
  "nbformat_minor": 0,
  "metadata": {
    "colab": {
      "name": "Untitled115.ipynb",
      "provenance": [],
      "authorship_tag": "ABX9TyOLcU2t82CSmM6+B+Zo8DeC",
      "include_colab_link": true
    },
    "kernelspec": {
      "name": "python3",
      "display_name": "Python 3"
    },
    "language_info": {
      "name": "python"
    }
  },
  "cells": [
    {
      "cell_type": "markdown",
      "metadata": {
        "id": "view-in-github",
        "colab_type": "text"
      },
      "source": [
        "<a href=\"https://colab.research.google.com/github/nurfnick/Calculus_1/blob/main/Python/PiecewiseFunctions.ipynb\" target=\"_parent\"><img src=\"https://colab.research.google.com/assets/colab-badge.svg\" alt=\"Open In Colab\"/></a>"
      ]
    },
    {
      "cell_type": "markdown",
      "source": [
        "# Piecewise Functions"
      ],
      "metadata": {
        "id": "FS9e6NZHgdJ5"
      }
    },
    {
      "cell_type": "markdown",
      "source": [
        "Let's show a piecewise function using `sympy` and python. I'll look at\n",
        "$$\n",
        "f(x) = \n",
        "\\left\\{\n",
        "  \\begin{array}{ll}\n",
        "  1-x&x\\leq -1\\\\\n",
        "  x^2&x>-1\n",
        "  \\end{array}\n",
        "\\right.\n",
        "$$"
      ],
      "metadata": {
        "id": "BTw_6dKigffE"
      }
    },
    {
      "cell_type": "code",
      "execution_count": 1,
      "metadata": {
        "colab": {
          "base_uri": "https://localhost:8080/",
          "height": 68
        },
        "id": "m7kfO6Upgcd0",
        "outputId": "6de837b9-e592-4f03-dd2b-cafc85f5c99f"
      },
      "outputs": [
        {
          "output_type": "execute_result",
          "data": {
            "text/plain": [
              "Piecewise((1 - x, x <= -1), (x**2, True))"
            ],
            "text/latex": "$\\displaystyle \\begin{cases} 1 - x & \\text{for}\\: x \\leq -1 \\\\x^{2} & \\text{otherwise} \\end{cases}$"
          },
          "metadata": {},
          "execution_count": 1
        }
      ],
      "source": [
        "from sympy import *\n",
        "\n",
        "x = symbols('x')\n",
        "\n",
        "f = Piecewise((1-x,x<=-1),(x**2, x>-1))\n",
        "\n",
        "f"
      ]
    },
    {
      "cell_type": "code",
      "source": [
        "plot(f)"
      ],
      "metadata": {
        "colab": {
          "base_uri": "https://localhost:8080/",
          "height": 314
        },
        "id": "8CNUAVYmhoXj",
        "outputId": "42aba418-b2c2-4394-e138-8f049da165b2"
      },
      "execution_count": null,
      "outputs": [
        {
          "output_type": "display_data",
          "data": {
            "text/plain": [
              "<Figure size 432x288 with 1 Axes>"
            ],
            "image/png": "[encoded data removed]"
          },
          "metadata": {
            "needs_background": "light"
          }
        },
        {
          "output_type": "execute_result",
          "data": {
            "text/plain": [
              "<sympy.plotting.plot.Plot at 0x7f0e382b9c50>"
            ]
          },
          "metadata": {},
          "execution_count": 3
        }
      ]
    },
    {
      "cell_type": "code",
      "source": [
        "f.subs(x,5)"
      ],
      "metadata": {
        "colab": {
          "base_uri": "https://localhost:8080/",
          "height": 37
        },
        "id": "08RVSFvlhsw0",
        "outputId": "6f2100a7-ce35-49b5-ebf4-40549b5a0622"
      },
      "execution_count": null,
      "outputs": [
        {
          "output_type": "execute_result",
          "data": {
            "text/plain": [
              "25"
            ],
            "text/latex": "$\\displaystyle 25$"
          },
          "metadata": {},
          "execution_count": 8
        }
      ]
    },
    {
      "cell_type": "code",
      "source": [
        "g = 2*x**2-5*x+1\n"
      ],
      "metadata": {
        "id": "y0WhyUSsiMNZ"
      },
      "execution_count": 4,
      "outputs": []
    },
    {
      "cell_type": "code",
      "source": [
        "a,h = symbols(['a','h'])\n",
        "\n",
        "(g.subs(x,a+h)-g.subs(x,a))/h"
      ],
      "metadata": {
        "colab": {
          "base_uri": "https://localhost:8080/",
          "height": 56
        },
        "id": "jospHDtxibEO",
        "outputId": "3d651cac-c3e5-4bf1-b171-6a23f6a1a80c"
      },
      "execution_count": 5,
      "outputs": [
        {
          "output_type": "execute_result",
          "data": {
            "text/plain": [
              "(-2*a**2 - 5*h + 2*(a + h)**2)/h"
            ],
            "text/latex": "$\\displaystyle \\frac{- 2 a^{2} - 5 h + 2 \\left(a + h\\right)^{2}}{h}$"
          },
          "metadata": {},
          "execution_count": 5
        }
      ]
    },
    {
      "cell_type": "code",
      "source": [
        "(g.subs(x,a+h).expand()-g.subs(x,a)).simplify()/h"
      ],
      "metadata": {
        "colab": {
          "base_uri": "https://localhost:8080/",
          "height": 38
        },
        "id": "9NJNYMgXi0zo",
        "outputId": "d921f58d-dd66-4ea3-ad97-99e0db27f8b9"
      },
      "execution_count": 6,
      "outputs": [
        {
          "output_type": "execute_result",
          "data": {
            "text/plain": [
              "4*a + 2*h - 5"
            ],
            "text/latex": "$\\displaystyle 4 a + 2 h - 5$"
          },
          "metadata": {},
          "execution_count": 6
        }
      ]
    },
    {
      "cell_type": "code",
      "source": [
        "(g.subs(x,1.1)-g.subs(x,1))/.1"
      ],
      "metadata": {
        "id": "qZFrUXlS1LyE",
        "outputId": "1aabf2f1-1141-48af-8982-20314ee5a84b",
        "colab": {
          "base_uri": "https://localhost:8080/",
          "height": 37
        }
      },
      "execution_count": 8,
      "outputs": [
        {
          "output_type": "execute_result",
          "data": {
            "text/plain": [
              "-0.799999999999996"
            ],
            "text/latex": "$\\displaystyle -0.799999999999996$"
          },
          "metadata": {},
          "execution_count": 8
        }
      ]
    },
    {
      "cell_type": "code",
      "source": [
        "g = x**2"
      ],
      "metadata": {
        "id": "MTJ4V0XwjJHV"
      },
      "execution_count": 2,
      "outputs": []
    },
    {
      "cell_type": "code",
      "source": [
        "plot(g)"
      ],
      "metadata": {
        "id": "uNl57Z2Hwk9v",
        "outputId": "371e0530-c19f-4c24-9121-d378832d4041",
        "colab": {
          "base_uri": "https://localhost:8080/",
          "height": 314
        }
      },
      "execution_count": 3,
      "outputs": [
        {
          "output_type": "display_data",
          "data": {
            "text/plain": [
              "<Figure size 432x288 with 1 Axes>"
            ],
            "image/png": "[encoded data removed]"
          },
          "metadata": {
            "needs_background": "light"
          }
        },
        {
          "output_type": "execute_result",
          "data": {
            "text/plain": [
              "<sympy.plotting.plot.Plot at 0x7ff216fdc250>"
            ]
          },
          "metadata": {},
          "execution_count": 3
        }
      ]
    },
    {
      "cell_type": "code",
      "source": [
        ""
      ],
      "metadata": {
        "id": "Tgv9LRuxwmot"
      },
      "execution_count": null,
      "outputs": []
    }
  ]
}