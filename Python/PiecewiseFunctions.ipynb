{
  "nbformat": 4,
  "nbformat_minor": 0,
  "metadata": {
    "colab": {
      "name": "Untitled115.ipynb",
      "provenance": [],
      "authorship_tag": "ABX9TyMZYkO8GFLBrVQCB6YLUMsA",
      "include_colab_link": true
    },
    "kernelspec": {
      "name": "python3",
      "display_name": "Python 3"
    },
    "language_info": {
      "name": "python"
    }
  },
  "cells": [
    {
      "cell_type": "markdown",
      "metadata": {
        "id": "view-in-github",
        "colab_type": "text"
      },
      "source": [
        "<a href=\"https://colab.research.google.com/github/nurfnick/Calculus_1/blob/main/Python/PiecewiseFunctions.ipynb\" target=\"_parent\"><img src=\"https://colab.research.google.com/assets/colab-badge.svg\" alt=\"Open In Colab\"/></a>"
      ]
    },
    {
      "cell_type": "markdown",
      "source": [
        "# Piecewise Functions"
      ],
      "metadata": {
        "id": "FS9e6NZHgdJ5"
      }
    },
    {
      "cell_type": "markdown",
      "source": [
        "Let's show a piecewise function using `sympy` and python. I'll look at\n",
        "$$\n",
        "f(x) = \n",
        "\\left\\{\n",
        "  \\begin{array}{ll}\n",
        "  1-x&x\\leq -1\\\\\n",
        "  x^2&x>-1\n",
        "  \\end{array}\n",
        "\\right.\n",
        "$$"
      ],
      "metadata": {
        "id": "BTw_6dKigffE"
      }
    },
    {
      "cell_type": "code",
      "execution_count": 1,
      "metadata": {
        "colab": {
          "base_uri": "https://localhost:8080/",
          "height": 68
        },
        "id": "m7kfO6Upgcd0",
        "outputId": "cc32ec6e-8ff5-44ed-e457-967f3942253b"
      },
      "outputs": [
        {
          "output_type": "execute_result",
          "data": {
            "text/plain": [
              "Piecewise((1 - x, x <= -1), (x**2, True))"
            ],
            "text/latex": "$\\displaystyle \\begin{cases} 1 - x & \\text{for}\\: x \\leq -1 \\\\x^{2} & \\text{otherwise} \\end{cases}$"
          },
          "metadata": {},
          "execution_count": 1
        }
      ],
      "source": [
        "from sympy import *\n",
        "\n",
        "x = symbols('x')\n",
        "\n",
        "f = Piecewise((1-x,x<=-1),(x**2, x>-1))\n",
        "\n",
        "f"
      ]
    },
    {
      "cell_type": "code",
      "source": [
        "plot(f)"
      ],
      "metadata": {
        "colab": {
          "base_uri": "https://localhost:8080/",
          "height": 314
        },
        "id": "8CNUAVYmhoXj",
        "outputId": "42aba418-b2c2-4394-e138-8f049da165b2"
      },
      "execution_count": 3,
      "outputs": [
        {
          "output_type": "display_data",
          "data": {
            "text/plain": [
              "<Figure size 432x288 with 1 Axes>"
            ],
            "image/png": "[encoded data removed]"
          },
          "metadata": {
            "needs_background": "light"
          }
        },
        {
          "output_type": "execute_result",
          "data": {
            "text/plain": [
              "<sympy.plotting.plot.Plot at 0x7f0e382b9c50>"
            ]
          },
          "metadata": {},
          "execution_count": 3
        }
      ]
    },
    {
      "cell_type": "code",
      "source": [
        "f.subs(x,5)"
      ],
      "metadata": {
        "colab": {
          "base_uri": "https://localhost:8080/",
          "height": 37
        },
        "id": "08RVSFvlhsw0",
        "outputId": "6f2100a7-ce35-49b5-ebf4-40549b5a0622"
      },
      "execution_count": 8,
      "outputs": [
        {
          "output_type": "execute_result",
          "data": {
            "text/plain": [
              "25"
            ],
            "text/latex": "$\\displaystyle 25$"
          },
          "metadata": {},
          "execution_count": 8
        }
      ]
    },
    {
      "cell_type": "code",
      "source": [
        "g = x**2-5*x+1\n"
      ],
      "metadata": {
        "id": "y0WhyUSsiMNZ"
      },
      "execution_count": 9,
      "outputs": []
    },
    {
      "cell_type": "code",
      "source": [
        "a,h = symbols(['a','h'])\n",
        "\n",
        "(g.subs(x,a+h)-g.subs(x,a))/h"
      ],
      "metadata": {
        "colab": {
          "base_uri": "https://localhost:8080/",
          "height": 56
        },
        "id": "jospHDtxibEO",
        "outputId": "7e9b2a9a-6ad0-450d-8bd5-77702aac6967"
      },
      "execution_count": 15,
      "outputs": [
        {
          "output_type": "execute_result",
          "data": {
            "text/plain": [
              "(-a**2 - 5*h + (a + h)**2)/h"
            ],
            "text/latex": "$\\displaystyle \\frac{- a^{2} - 5 h + \\left(a + h\\right)^{2}}{h}$"
          },
          "metadata": {},
          "execution_count": 15
        }
      ]
    },
    {
      "cell_type": "code",
      "source": [
        "(g.subs(x,a+h).expand()-g.subs(x,a)).simplify()/h"
      ],
      "metadata": {
        "colab": {
          "base_uri": "https://localhost:8080/",
          "height": 38
        },
        "id": "9NJNYMgXi0zo",
        "outputId": "1a02be39-32db-4453-87d0-6ab5c9678aa5"
      },
      "execution_count": 23,
      "outputs": [
        {
          "output_type": "execute_result",
          "data": {
            "text/plain": [
              "2*a + h - 5"
            ],
            "text/latex": "$\\displaystyle 2 a + h - 5$"
          },
          "metadata": {},
          "execution_count": 23
        }
      ]
    },
    {
      "cell_type": "code",
      "source": [
        ""
      ],
      "metadata": {
        "id": "MTJ4V0XwjJHV"
      },
      "execution_count": null,
      "outputs": []
    }
  ]
}