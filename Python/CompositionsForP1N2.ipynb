{
  "nbformat": 4,
  "nbformat_minor": 0,
  "metadata": {
    "colab": {
      "provenance": [],
      "authorship_tag": "ABX9TyM4UG3rVQ28HXiAX9Fhlbee",
      "include_colab_link": true
    },
    "kernelspec": {
      "name": "python3",
      "display_name": "Python 3"
    },
    "language_info": {
      "name": "python"
    }
  },
  "cells": [
    {
      "cell_type": "markdown",
      "metadata": {
        "id": "view-in-github",
        "colab_type": "text"
      },
      "source": [
        "<a href=\"https://colab.research.google.com/github/nurfnick/Calculus_1/blob/main/Python/CompositionsForP1N2.ipynb\" target=\"_parent\"><img src=\"https://colab.research.google.com/assets/colab-badge.svg\" alt=\"Open In Colab\"/></a>"
      ]
    },
    {
      "cell_type": "code",
      "execution_count": 2,
      "metadata": {
        "id": "AOjhK_R68T23"
      },
      "outputs": [],
      "source": [
        "from sympy import *\n",
        "\n",
        "x = symbols('x')\n",
        "\n",
        "f0 = 1/(3-x)"
      ]
    },
    {
      "cell_type": "code",
      "source": [
        "f1 = f0.subs(x,f0)\n",
        "\n",
        "f1.simplify()"
      ],
      "metadata": {
        "colab": {
          "base_uri": "https://localhost:8080/",
          "height": 52
        },
        "id": "w33l6LVH8bR1",
        "outputId": "940ae6a8-eeca-4287-fa96-62ee2b2bc069"
      },
      "execution_count": 5,
      "outputs": [
        {
          "output_type": "execute_result",
          "data": {
            "text/plain": [
              "(x - 3)/(3*x - 8)"
            ],
            "text/latex": "$\\displaystyle \\frac{x - 3}{3 x - 8}$"
          },
          "metadata": {},
          "execution_count": 5
        }
      ]
    },
    {
      "cell_type": "code",
      "source": [
        "f2 = f1.subs(x,f0)\n",
        "\n",
        "f2.simplify()"
      ],
      "metadata": {
        "colab": {
          "base_uri": "https://localhost:8080/",
          "height": 52
        },
        "id": "24blYqhN8n8V",
        "outputId": "64e7e4b9-d751-4001-c386-d7d4152a56e1"
      },
      "execution_count": 7,
      "outputs": [
        {
          "output_type": "execute_result",
          "data": {
            "text/plain": [
              "(3*x - 8)/(8*x - 21)"
            ],
            "text/latex": "$\\displaystyle \\frac{3 x - 8}{8 x - 21}$"
          },
          "metadata": {},
          "execution_count": 7
        }
      ]
    },
    {
      "cell_type": "code",
      "source": [
        "f2"
      ],
      "metadata": {
        "colab": {
          "base_uri": "https://localhost:8080/",
          "height": 63
        },
        "id": "TbYY3P0H8ynT",
        "outputId": "69b00383-b111-427e-9d96-2e828dd0615a"
      },
      "execution_count": 8,
      "outputs": [
        {
          "output_type": "execute_result",
          "data": {
            "text/plain": [
              "1/(3 - 1/(3 - 1/(3 - x)))"
            ],
            "text/latex": "$\\displaystyle \\frac{1}{3 - \\frac{1}{3 - \\frac{1}{3 - x}}}$"
          },
          "metadata": {},
          "execution_count": 8
        }
      ]
    },
    {
      "cell_type": "code",
      "source": [
        "f3 = f2.subs(x,f0)\n",
        "\n",
        "f3.simplify()"
      ],
      "metadata": {
        "colab": {
          "base_uri": "https://localhost:8080/",
          "height": 52
        },
        "id": "kOatKUJZ83ET",
        "outputId": "10a89163-9207-4589-e84b-5e56d8961b6c"
      },
      "execution_count": 10,
      "outputs": [
        {
          "output_type": "execute_result",
          "data": {
            "text/plain": [
              "(8*x - 21)/(21*x - 55)"
            ],
            "text/latex": "$\\displaystyle \\frac{8 x - 21}{21 x - 55}$"
          },
          "metadata": {},
          "execution_count": 10
        }
      ]
    },
    {
      "cell_type": "code",
      "source": [
        "21x-55/55x-?"
      ],
      "metadata": {
        "id": "WpYkZZKL9OqE"
      },
      "execution_count": null,
      "outputs": []
    },
    {
      "cell_type": "markdown",
      "source": [
        "3,8,21,55,..."
      ],
      "metadata": {
        "id": "0yx8HNnv9fr_"
      }
    },
    {
      "cell_type": "code",
      "source": [
        "f4 = f3.subs(x,f0)\n",
        "\n",
        "f4.simplify()"
      ],
      "metadata": {
        "colab": {
          "base_uri": "https://localhost:8080/",
          "height": 52
        },
        "id": "-iBQC5J791xS",
        "outputId": "bf141e10-fe66-42cc-a008-3696519ee133"
      },
      "execution_count": 11,
      "outputs": [
        {
          "output_type": "execute_result",
          "data": {
            "text/plain": [
              "(21*x - 55)/(55*x - 144)"
            ],
            "text/latex": "$\\displaystyle \\frac{21 x - 55}{55 x - 144}$"
          },
          "metadata": {},
          "execution_count": 11
        }
      ]
    },
    {
      "cell_type": "code",
      "source": [
        "144+89+144"
      ],
      "metadata": {
        "colab": {
          "base_uri": "https://localhost:8080/"
        },
        "id": "ddWzC8XI98mF",
        "outputId": "580532d8-cf80-429a-ca81-678c5c8f186e"
      },
      "execution_count": 12,
      "outputs": [
        {
          "output_type": "execute_result",
          "data": {
            "text/plain": [
              "377"
            ]
          },
          "metadata": {},
          "execution_count": 12
        }
      ]
    },
    {
      "cell_type": "code",
      "source": [
        "f5 = f4.subs(x,f0)\n",
        "\n",
        "f5.simplify()"
      ],
      "metadata": {
        "colab": {
          "base_uri": "https://localhost:8080/",
          "height": 52
        },
        "id": "TU_XNNjY-e-5",
        "outputId": "d8bcf92f-1ff3-4405-da96-bb87ac99b178"
      },
      "execution_count": 13,
      "outputs": [
        {
          "output_type": "execute_result",
          "data": {
            "text/plain": [
              "(55*x - 144)/(144*x - 377)"
            ],
            "text/latex": "$\\displaystyle \\frac{55 x - 144}{144 x - 377}$"
          },
          "metadata": {},
          "execution_count": 13
        }
      ]
    },
    {
      "cell_type": "code",
      "source": [],
      "metadata": {
        "id": "EAR-PlEg-kzJ"
      },
      "execution_count": null,
      "outputs": []
    }
  ]
}