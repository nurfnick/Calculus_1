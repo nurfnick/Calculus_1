{
  "nbformat": 4,
  "nbformat_minor": 0,
  "metadata": {
    "colab": {
      "provenance": [],
      "authorship_tag": "ABX9TyMJNAOixul1EEXPIBl2yvjT",
      "include_colab_link": true
    },
    "kernelspec": {
      "name": "python3",
      "display_name": "Python 3"
    },
    "language_info": {
      "name": "python"
    }
  },
  "cells": [
    {
      "cell_type": "markdown",
      "metadata": {
        "id": "view-in-github",
        "colab_type": "text"
      },
      "source": [
        "<a href=\"https://colab.research.google.com/github/nurfnick/Calculus_1/blob/main/Python/Project_Part2_Limits_Derivatives.ipynb\" target=\"_parent\"><img src=\"https://colab.research.google.com/assets/colab-badge.svg\" alt=\"Open In Colab\"/></a>"
      ]
    },
    {
      "cell_type": "markdown",
      "source": [
        "# Project Part 2:  Hints and Tips"
      ],
      "metadata": {
        "id": "pQmcmzNLfhz4"
      }
    },
    {
      "cell_type": "markdown",
      "source": [
        "I am going to load all the packages I think I'll need here first."
      ],
      "metadata": {
        "id": "m3KKe-tmfoy9"
      }
    },
    {
      "cell_type": "code",
      "execution_count": 1,
      "metadata": {
        "id": "iG0Pa7d7fhVr"
      },
      "outputs": [],
      "source": [
        "import numpy as np\n",
        "from sympy import *"
      ]
    },
    {
      "cell_type": "markdown",
      "source": [
        "## Limits"
      ],
      "metadata": {
        "id": "v8ZnLiEQf3dq"
      }
    },
    {
      "cell_type": "markdown",
      "source": [
        "Computing a limit is fairly straight forward using `sympy`"
      ],
      "metadata": {
        "id": "vQbeo1X8f5J4"
      }
    },
    {
      "cell_type": "code",
      "source": [
        "from sympy.core.numbers import Infinity\n",
        "x = symbols('x')\n",
        "\n",
        "f = (3*x**2-2)/(5*x**2+x-4)\n",
        "\n",
        "limit(f,x,Infinity())"
      ],
      "metadata": {
        "colab": {
          "base_uri": "https://localhost:8080/",
          "height": 51
        },
        "id": "-7CQ73iGf247",
        "outputId": "abf64bc3-b443-491f-e535-be75e573ed78"
      },
      "execution_count": 2,
      "outputs": [
        {
          "output_type": "execute_result",
          "data": {
            "text/plain": [
              "3/5"
            ],
            "text/latex": "$\\displaystyle \\frac{3}{5}$"
          },
          "metadata": {},
          "execution_count": 2
        }
      ]
    },
    {
      "cell_type": "markdown",
      "source": [
        "Above I computed an infinite limit!\n",
        "$$\n",
        "\\lim_{x\\to\\infty}\\frac{3x^2-2}{5x^2+x-4}\n",
        "$$"
      ],
      "metadata": {
        "id": "N_aI38N4gWdG"
      }
    },
    {
      "cell_type": "markdown",
      "source": [
        "Sometimes for the limit we are interested in the precise definition.  When we say that \n",
        "$$\n",
        "\\lim_{x\\to\\infty}f(x) = L\n",
        "$$\n",
        "We mean that for every $\\epsilon>0$ there exists an $M>0$ such that when $x>M$, then  $|f(x)-L|<\\epsilon$.\n",
        "\n",
        "If we were given $\\epsilon = 0.1$, how would we find the $M$ that permits us to be within that tollerance?  Essentially this is asking:\n",
        "\n",
        "$$\n",
        "\\left|\\frac{3x^2-2}{5x^2+x-4}-\\frac35\\right|<\\frac1{10}\n",
        "$$\n",
        "\n",
        "To do this, I'll attempt to solve the equality not the inequality!  I'll solve it for both the positive value $\\frac1{10}$ and the negative value $-\\frac1{10}$."
      ],
      "metadata": {
        "id": "5UillSWMgsyk"
      }
    },
    {
      "cell_type": "code",
      "source": [
        "solve(f-7/10,x)"
      ],
      "metadata": {
        "colab": {
          "base_uri": "https://localhost:8080/"
        },
        "id": "jTCcGy6VgQyH",
        "outputId": "6ace017f-ebbb-4f2f-ecd8-baa1bc06de69"
      },
      "execution_count": null,
      "outputs": [
        {
          "output_type": "execute_result",
          "data": {
            "text/plain": [
              "[-2.14568322948010, 0.745683229480096]"
            ]
          },
          "metadata": {},
          "execution_count": 6
        }
      ]
    },
    {
      "cell_type": "code",
      "source": [
        "solve(f-5/10,x)"
      ],
      "metadata": {
        "colab": {
          "base_uri": "https://localhost:8080/"
        },
        "id": "5nZkRiDLiBk8",
        "outputId": "2d6b2297-84ef-46df-f33f-98a9e3239181"
      },
      "execution_count": null,
      "outputs": [
        {
          "output_type": "execute_result",
          "data": {
            "text/plain": [
              "[0.0, 1.00000000000000]"
            ]
          },
          "metadata": {},
          "execution_count": 7
        }
      ]
    },
    {
      "cell_type": "markdown",
      "source": [
        "There are four solutions here, we need to interpret the correct one.  We wanted $M$ to be positive so that eliminates two of them.  Next I want to take just the largest one since I want this to work for all values after.  If I take the smaller, there is a spot where it might break.  So $M=1$.  Let's numerically check!"
      ],
      "metadata": {
        "id": "Kqm5upoyiija"
      }
    },
    {
      "cell_type": "code",
      "source": [
        "f.subs(x,1)-3/5"
      ],
      "metadata": {
        "colab": {
          "base_uri": "https://localhost:8080/",
          "height": 37
        },
        "id": "cZ_Mcv5QicYr",
        "outputId": "8179908d-4afc-464e-a768-5148f5f8ee0d"
      },
      "execution_count": null,
      "outputs": [
        {
          "output_type": "execute_result",
          "data": {
            "text/plain": [
              "-0.100000000000000"
            ],
            "text/latex": "$\\displaystyle -0.1$"
          },
          "metadata": {},
          "execution_count": 8
        }
      ]
    },
    {
      "cell_type": "code",
      "source": [
        "f.subs(x,.745683229)-3/5"
      ],
      "metadata": {
        "colab": {
          "base_uri": "https://localhost:8080/",
          "height": 37
        },
        "id": "BE9uKDYLjCi6",
        "outputId": "4b20261a-7719-41eb-8097-3e717994f533"
      },
      "execution_count": null,
      "outputs": [
        {
          "output_type": "execute_result",
          "data": {
            "text/plain": [
              "0.0999999985360309"
            ],
            "text/latex": "$\\displaystyle 0.0999999985360309$"
          },
          "metadata": {},
          "execution_count": 10
        }
      ]
    },
    {
      "cell_type": "markdown",
      "source": [
        "We see that 0.1 appearing in both of these.  Let's check that for the rest of time the difference stays small!"
      ],
      "metadata": {
        "id": "u8IEwxlzjOpa"
      }
    },
    {
      "cell_type": "code",
      "source": [
        "\n",
        "\n",
        "for i in range(1,10000,1000):#this tests from 1 to 10,000 in steps of 1,000\n",
        "  print(abs(f.subs(x,i)-3/5)<.1)"
      ],
      "metadata": {
        "colab": {
          "base_uri": "https://localhost:8080/"
        },
        "id": "p80hPN6xjLgj",
        "outputId": "e5a1d5ea-72c3-4b62-fb32-f45da0239ad7"
      },
      "execution_count": null,
      "outputs": [
        {
          "output_type": "stream",
          "name": "stdout",
          "text": [
            "True\n",
            "True\n",
            "True\n",
            "True\n",
            "True\n",
            "True\n",
            "True\n",
            "True\n",
            "True\n",
            "True\n"
          ]
        }
      ]
    },
    {
      "cell_type": "markdown",
      "source": [
        "All above are true so I have shown that the limit works!  Be careful about getting the right number for your $M$ or $\\delta$!"
      ],
      "metadata": {
        "id": "lW59-H3okDZU"
      }
    },
    {
      "cell_type": "markdown",
      "source": [
        "## Derivatives \n",
        "\n",
        "These aren't terrible either!"
      ],
      "metadata": {
        "id": "722uNJ2PkWJI"
      }
    },
    {
      "cell_type": "code",
      "source": [
        "f.diff(x)"
      ],
      "metadata": {
        "colab": {
          "base_uri": "https://localhost:8080/",
          "height": 62
        },
        "id": "AXPfz7MKjqGb",
        "outputId": "ebe16737-f0a6-4ed4-ecf7-a80d3129943a"
      },
      "execution_count": null,
      "outputs": [
        {
          "output_type": "execute_result",
          "data": {
            "text/plain": [
              "6*x/(5*x**2 + x - 4) + (-10*x - 1)*(3*x**2 - 2)/(5*x**2 + x - 4)**2"
            ],
            "text/latex": "$\\displaystyle \\frac{6 x}{5 x^{2} + x - 4} + \\frac{\\left(- 10 x - 1\\right) \\left(3 x^{2} - 2\\right)}{\\left(5 x^{2} + x - 4\\right)^{2}}$"
          },
          "metadata": {},
          "execution_count": 18
        }
      ]
    },
    {
      "cell_type": "markdown",
      "source": [
        "This is the derivative.  I could check it by doing the limit!\n",
        "\n",
        "$$\n",
        "f'(a) = \\lim_{x\\to a}\\frac{f(x)-f(a)}{x-a}\n",
        "$$"
      ],
      "metadata": {
        "id": "dX31snPEkgPA"
      }
    },
    {
      "cell_type": "code",
      "source": [
        "a = symbols('a')\n",
        "\n",
        "limit((f-f.subs(x,a))/(x-a),x,a).simplify()"
      ],
      "metadata": {
        "colab": {
          "base_uri": "https://localhost:8080/",
          "height": 55
        },
        "id": "WMqCFp_bkcRi",
        "outputId": "dd001b5c-08a4-4750-e837-9efe433436c2"
      },
      "execution_count": null,
      "outputs": [
        {
          "output_type": "execute_result",
          "data": {
            "text/plain": [
              "(3*a**2 - 4*a + 2)/(25*a**4 + 10*a**3 - 39*a**2 - 8*a + 16)"
            ],
            "text/latex": "$\\displaystyle \\frac{3 a^{2} - 4 a + 2}{25 a^{4} + 10 a^{3} - 39 a^{2} - 8 a + 16}$"
          },
          "metadata": {},
          "execution_count": 21
        }
      ]
    },
    {
      "cell_type": "code",
      "source": [
        "f.diff(x).simplify()"
      ],
      "metadata": {
        "colab": {
          "base_uri": "https://localhost:8080/",
          "height": 55
        },
        "id": "cSBvDskVk5_Y",
        "outputId": "57fe376f-2ca0-4abc-96a1-28add3bd7bb1"
      },
      "execution_count": null,
      "outputs": [
        {
          "output_type": "execute_result",
          "data": {
            "text/plain": [
              "(3*x**2 - 4*x + 2)/(25*x**4 + 10*x**3 - 39*x**2 - 8*x + 16)"
            ],
            "text/latex": "$\\displaystyle \\frac{3 x^{2} - 4 x + 2}{25 x^{4} + 10 x^{3} - 39 x^{2} - 8 x + 16}$"
          },
          "metadata": {},
          "execution_count": 22
        }
      ]
    },
    {
      "cell_type": "markdown",
      "source": [
        "These do agree after adding the `.simplify()` command!"
      ],
      "metadata": {
        "id": "HLJnNLtUlGNt"
      }
    },
    {
      "cell_type": "markdown",
      "source": [
        "## Equation of the Tangent Line"
      ],
      "metadata": {
        "id": "cV0LnJSQ3Srn"
      }
    },
    {
      "cell_type": "markdown",
      "source": [
        "If I wanted the equation of the tangent line, I could find,\n",
        "$$\n",
        "y = m(x-x_0)+y_0\n",
        "$$\n",
        "where $m = f'(x_0)$.\n",
        "\n",
        "So taking my equation above and using $x_0 = 1$."
      ],
      "metadata": {
        "id": "veYvL1KY2QjU"
      }
    },
    {
      "cell_type": "code",
      "source": [
        "line = f.diff(x).subs(x,1)*(x-1)+f.subs(x,1)\n",
        "\n",
        "line"
      ],
      "metadata": {
        "id": "Q04kbtCBlETw",
        "outputId": "8c00548d-5695-4328-b0e9-5e127248029f",
        "colab": {
          "base_uri": "https://localhost:8080/",
          "height": 51
        }
      },
      "execution_count": 3,
      "outputs": [
        {
          "output_type": "execute_result",
          "data": {
            "text/plain": [
              "x/4 + 1/4"
            ],
            "text/latex": "$\\displaystyle \\frac{x}{4} + \\frac{1}{4}$"
          },
          "metadata": {},
          "execution_count": 3
        }
      ]
    },
    {
      "cell_type": "code",
      "source": [
        "from sympy.plotting import plot\n",
        "\n",
        "plot(f,line , (x,0.9,2))"
      ],
      "metadata": {
        "id": "Q0zX9wnB22ph",
        "outputId": "da8a251a-000d-46d9-ca97-dcf8c5bf9e9a",
        "colab": {
          "base_uri": "https://localhost:8080/",
          "height": 315
        }
      },
      "execution_count": 6,
      "outputs": [
        {
          "output_type": "display_data",
          "data": {
            "text/plain": [
              "<Figure size 432x288 with 1 Axes>"
            ],
            "image/png": "[encoded data removed]"
          },
          "metadata": {
            "needs_background": "light"
          }
        },
        {
          "output_type": "execute_result",
          "data": {
            "text/plain": [
              "<sympy.plotting.plot.Plot at 0x7f25896df210>"
            ]
          },
          "metadata": {},
          "execution_count": 6
        }
      ]
    },
    {
      "cell_type": "markdown",
      "source": [
        "We see that at 1 it comes in and just touches the graph!"
      ],
      "metadata": {
        "id": "F8u8V_gl3LRE"
      }
    },
    {
      "cell_type": "code",
      "source": [],
      "metadata": {
        "id": "BmWc99nK3EqR"
      },
      "execution_count": null,
      "outputs": []
    }
  ]
}