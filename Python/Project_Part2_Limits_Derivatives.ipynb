{
  "nbformat": 4,
  "nbformat_minor": 0,
  "metadata": {
    "colab": {
      "provenance": [],
      "authorship_tag": "ABX9TyOS8aCwd0ClFNiF5TULzG9w",
      "include_colab_link": true
    },
    "kernelspec": {
      "name": "python3",
      "display_name": "Python 3"
    },
    "language_info": {
      "name": "python"
    }
  },
  "cells": [
    {
      "cell_type": "markdown",
      "metadata": {
        "id": "view-in-github",
        "colab_type": "text"
      },
      "source": [
        "<a href=\"https://colab.research.google.com/github/nurfnick/Calculus_1/blob/main/Python/Project_Part2_Limits_Derivatives.ipynb\" target=\"_parent\"><img src=\"https://colab.research.google.com/assets/colab-badge.svg\" alt=\"Open In Colab\"/></a>"
      ]
    },
    {
      "cell_type": "markdown",
      "source": [
        "# Project Part 2:  Hints and Tips"
      ],
      "metadata": {
        "id": "pQmcmzNLfhz4"
      }
    },
    {
      "cell_type": "markdown",
      "source": [
        "I am going to load all the packages I think I'll need here first."
      ],
      "metadata": {
        "id": "m3KKe-tmfoy9"
      }
    },
    {
      "cell_type": "code",
      "execution_count": 1,
      "metadata": {
        "id": "iG0Pa7d7fhVr"
      },
      "outputs": [],
      "source": [
        "import numpy as np\n",
        "from sympy import *"
      ]
    },
    {
      "cell_type": "markdown",
      "source": [
        "## Limits"
      ],
      "metadata": {
        "id": "v8ZnLiEQf3dq"
      }
    },
    {
      "cell_type": "markdown",
      "source": [
        "Computing a limit is fairly straight forward using `sympy`"
      ],
      "metadata": {
        "id": "vQbeo1X8f5J4"
      }
    },
    {
      "cell_type": "code",
      "source": [
        "from sympy.core.numbers import Infinity\n",
        "x = symbols('x')\n",
        "\n",
        "f = (3*x**2-2)/(5*x**2+x-4)\n",
        "\n",
        "limit(f,x,Infinity())"
      ],
      "metadata": {
        "colab": {
          "base_uri": "https://localhost:8080/",
          "height": 51
        },
        "id": "-7CQ73iGf247",
        "outputId": "98d656c3-615b-4658-ba5d-f2459eb7b3cf"
      },
      "execution_count": 2,
      "outputs": [
        {
          "output_type": "execute_result",
          "data": {
            "text/plain": [
              "3/5"
            ],
            "text/latex": "$\\displaystyle \\frac{3}{5}$"
          },
          "metadata": {},
          "execution_count": 2
        }
      ]
    },
    {
      "cell_type": "markdown",
      "source": [
        "Above I computed an infinite limit!\n",
        "$$\n",
        "\\lim_{x\\to\\infty}\\frac{3x^2-2}{5x^2+x-4}\n",
        "$$"
      ],
      "metadata": {
        "id": "N_aI38N4gWdG"
      }
    },
    {
      "cell_type": "markdown",
      "source": [
        "Sometimes for the limit we are interested in the precise definition.  When we say that \n",
        "$$\n",
        "\\lim_{x\\to\\infty}f(x) = L\n",
        "$$\n",
        "We mean that for every $\\epsilon>0$ there exists an $M>0$ such that when $x>M$, then  $|f(x)-L|<\\epsilon$.\n",
        "\n",
        "If we were given $\\epsilon = 0.1$, how would we find the $M$ that permits us to be within that tollerance?  Essentially this is asking:\n",
        "\n",
        "$$\n",
        "\\left|\\frac{3x^2-2}{5x^2+x-4}-\\frac35\\right|<\\frac1{10}\n",
        "$$\n",
        "\n",
        "To do this, I'll attempt to solve the equality not the inequality!  I'll solve it for both the positive value $\\frac1{10}$ and the negative value $-\\frac1{10}$."
      ],
      "metadata": {
        "id": "5UillSWMgsyk"
      }
    },
    {
      "cell_type": "code",
      "source": [
        "solve(f-7/10,x)#why 7/10? 7/10 = 3/5+1/10"
      ],
      "metadata": {
        "colab": {
          "base_uri": "https://localhost:8080/"
        },
        "id": "jTCcGy6VgQyH",
        "outputId": "53ca4dec-8e9b-4ebb-bddf-8d405d3a7967"
      },
      "execution_count": 3,
      "outputs": [
        {
          "output_type": "execute_result",
          "data": {
            "text/plain": [
              "[-2.14568322948010, 0.745683229480096]"
            ]
          },
          "metadata": {},
          "execution_count": 3
        }
      ]
    },
    {
      "cell_type": "code",
      "source": [
        "solve(f-5/10,x)"
      ],
      "metadata": {
        "colab": {
          "base_uri": "https://localhost:8080/"
        },
        "id": "5nZkRiDLiBk8",
        "outputId": "30af3819-d582-4327-c77f-1710157d97cf"
      },
      "execution_count": 4,
      "outputs": [
        {
          "output_type": "execute_result",
          "data": {
            "text/plain": [
              "[0.0, 1.00000000000000]"
            ]
          },
          "metadata": {},
          "execution_count": 4
        }
      ]
    },
    {
      "cell_type": "markdown",
      "source": [
        "There are four solutions here, we need to interpret the correct one.  We wanted $M$ to be positive so that eliminates two of them.  Next I want to take just the largest one since I want this to work for all values after.  If I take the smaller, there is a spot where it might break.  So $M=1$.  Let's numerically check!"
      ],
      "metadata": {
        "id": "Kqm5upoyiija"
      }
    },
    {
      "cell_type": "code",
      "source": [
        "f.subs(x,1)-3/5"
      ],
      "metadata": {
        "colab": {
          "base_uri": "https://localhost:8080/",
          "height": 37
        },
        "id": "cZ_Mcv5QicYr",
        "outputId": "4a85abc4-5c71-4e45-aa71-21744da664db"
      },
      "execution_count": 5,
      "outputs": [
        {
          "output_type": "execute_result",
          "data": {
            "text/plain": [
              "-0.100000000000000"
            ],
            "text/latex": "$\\displaystyle -0.1$"
          },
          "metadata": {},
          "execution_count": 5
        }
      ]
    },
    {
      "cell_type": "code",
      "source": [
        "f.subs(x,.745683229)-3/5"
      ],
      "metadata": {
        "colab": {
          "base_uri": "https://localhost:8080/",
          "height": 37
        },
        "id": "BE9uKDYLjCi6",
        "outputId": "fbc355fc-3d06-44bf-c90e-013da4f2912a"
      },
      "execution_count": 6,
      "outputs": [
        {
          "output_type": "execute_result",
          "data": {
            "text/plain": [
              "0.0999999985360309"
            ],
            "text/latex": "$\\displaystyle 0.0999999985360309$"
          },
          "metadata": {},
          "execution_count": 6
        }
      ]
    },
    {
      "cell_type": "markdown",
      "source": [
        "We see that 0.1 appearing in both of these.  Let's check that for the rest of time the difference stays small!"
      ],
      "metadata": {
        "id": "u8IEwxlzjOpa"
      }
    },
    {
      "cell_type": "code",
      "source": [
        "\n",
        "\n",
        "for i in range(1,10000,1000):#this tests from 1 to 10,000 in steps of 1,000\n",
        "  print(abs(f.subs(x,i)-3/5)<.1)"
      ],
      "metadata": {
        "colab": {
          "base_uri": "https://localhost:8080/"
        },
        "id": "p80hPN6xjLgj",
        "outputId": "a77df211-80b1-40bd-eb22-9e0c11b049f2"
      },
      "execution_count": 7,
      "outputs": [
        {
          "output_type": "stream",
          "name": "stdout",
          "text": [
            "True\n",
            "True\n",
            "True\n",
            "True\n",
            "True\n",
            "True\n",
            "True\n",
            "True\n",
            "True\n",
            "True\n"
          ]
        }
      ]
    },
    {
      "cell_type": "markdown",
      "source": [
        "All above are true so I have shown that the limit works!  Be careful about getting the right number for your $M$ or $\\delta$!"
      ],
      "metadata": {
        "id": "lW59-H3okDZU"
      }
    },
    {
      "cell_type": "markdown",
      "source": [
        "## Limit That Isn't Going To Infinity"
      ],
      "metadata": {
        "id": "TGpHdACgERjx"
      }
    },
    {
      "cell_type": "markdown",
      "source": [
        "What if instead we look at a limit as x tends to a value?\n",
        "\n",
        "$$\n",
        "\\lim_{x\\to 2}\\frac{x^2-4}{x-2}\n",
        "$$"
      ],
      "metadata": {
        "id": "Cpr9mfANEYXM"
      }
    },
    {
      "cell_type": "code",
      "source": [
        "f = (x**2-4)/(x-2)\n",
        "\n",
        "limit(f,x,2)"
      ],
      "metadata": {
        "id": "3QyHJBCOEdYw",
        "outputId": "2ee833da-0512-4f59-93ad-0c20b3429a03",
        "colab": {
          "base_uri": "https://localhost:8080/",
          "height": 37
        }
      },
      "execution_count": 8,
      "outputs": [
        {
          "output_type": "execute_result",
          "data": {
            "text/plain": [
              "4"
            ],
            "text/latex": "$\\displaystyle 4$"
          },
          "metadata": {},
          "execution_count": 8
        }
      ]
    },
    {
      "cell_type": "markdown",
      "source": [
        "So let's set $\\epsilon = 0.01$ and see if we can find the $\\delta$ that does it."
      ],
      "metadata": {
        "id": "Yhy6xRudE4zp"
      }
    },
    {
      "cell_type": "code",
      "source": [
        "solve(f-4-.01,x)"
      ],
      "metadata": {
        "id": "OuSwh6VAFDUS",
        "outputId": "3337143f-f144-4661-c3c3-8a5de951a328",
        "colab": {
          "base_uri": "https://localhost:8080/"
        }
      },
      "execution_count": 9,
      "outputs": [
        {
          "output_type": "execute_result",
          "data": {
            "text/plain": [
              "[2.01000000000000]"
            ]
          },
          "metadata": {},
          "execution_count": 9
        }
      ]
    },
    {
      "cell_type": "code",
      "source": [
        "solve(f-4+.01,x)"
      ],
      "metadata": {
        "id": "vTB8szH8FKix",
        "outputId": "8a730355-8e97-4a91-ee6a-0e97379fc651",
        "colab": {
          "base_uri": "https://localhost:8080/"
        }
      },
      "execution_count": 10,
      "outputs": [
        {
          "output_type": "execute_result",
          "data": {
            "text/plain": [
              "[1.99000000000000]"
            ]
          },
          "metadata": {},
          "execution_count": 10
        }
      ]
    },
    {
      "cell_type": "markdown",
      "source": [
        "So it looks here that if $1.99<x<2.01$ then the limit will be close to it's true value.  This means that $\\delta = 0.01$."
      ],
      "metadata": {
        "id": "3ub1rme2FRgY"
      }
    },
    {
      "cell_type": "markdown",
      "source": [
        "If I want to check this, I should be looking at points that fall in this range but not 2.  Let's see that in the following code:"
      ],
      "metadata": {
        "id": "jmco48x7GauW"
      }
    },
    {
      "cell_type": "code",
      "source": [
        "x1 = np.linspace(1.99001,2.009999,10)\n",
        "list = []\n",
        "for i in x1:\n",
        "  print(f.subs(x,i),i)\n",
        "  list.append(abs(f.subs(x,i)-4)<0.01)\n",
        "\n",
        "list\n"
      ],
      "metadata": {
        "id": "kKEThfupGoEd",
        "outputId": "d92b6e45-c856-40fe-93bd-ee61ab5d3677",
        "colab": {
          "base_uri": "https://localhost:8080/"
        }
      },
      "execution_count": 11,
      "outputs": [
        {
          "output_type": "stream",
          "name": "stdout",
          "text": [
            "3.99000999999999 1.99001\n",
            "3.99223100000002 1.992231\n",
            "3.99445200000003 1.9944520000000001\n",
            "3.99667299999999 1.9966730000000001\n",
            "3.99889399999996 1.9988940000000002\n",
            "4.00111500000025 2.001115\n",
            "4.00333600000009 2.003336\n",
            "4.00555699999994 2.005557\n",
            "4.00777800000002 2.007778\n",
            "4.00999900000000 2.009999\n"
          ]
        },
        {
          "output_type": "execute_result",
          "data": {
            "text/plain": [
              "[True, True, True, True, True, True, True, True, True, True]"
            ]
          },
          "metadata": {},
          "execution_count": 11
        }
      ]
    },
    {
      "cell_type": "code",
      "source": [
        "x1"
      ],
      "metadata": {
        "id": "5cWdOfbJH8NU",
        "outputId": "7f8fbc55-31df-46b3-b951-0462653dc3de",
        "colab": {
          "base_uri": "https://localhost:8080/"
        }
      },
      "execution_count": 12,
      "outputs": [
        {
          "output_type": "execute_result",
          "data": {
            "text/plain": [
              "array([1.99001 , 1.992231, 1.994452, 1.996673, 1.998894, 2.001115,\n",
              "       2.003336, 2.005557, 2.007778, 2.009999])"
            ]
          },
          "metadata": {},
          "execution_count": 12
        }
      ]
    },
    {
      "cell_type": "markdown",
      "source": [
        "A word of warning for the assignment!  `math.e` is different from `sympy.E`.  Use `E`!\n"
      ],
      "metadata": {
        "id": "170af--bIRN5"
      }
    },
    {
      "cell_type": "code",
      "source": [
        "f = (E**(4*x)-1)/x\n",
        "f"
      ],
      "metadata": {
        "id": "ASbGMiZoFni3",
        "outputId": "1a58c08a-7a17-4746-b48f-57a6fdef625d",
        "colab": {
          "base_uri": "https://localhost:8080/",
          "height": 54
        }
      },
      "execution_count": 13,
      "outputs": [
        {
          "output_type": "execute_result",
          "data": {
            "text/plain": [
              "(exp(4*x) - 1)/x"
            ],
            "text/latex": "$\\displaystyle \\frac{e^{4 x} - 1}{x}$"
          },
          "metadata": {},
          "execution_count": 13
        }
      ]
    },
    {
      "cell_type": "markdown",
      "source": [
        "Looks like you need the `nsolve` to get one of the endpoints.  To apply the `nsolve` you'll need a point close to the solution.  You can find this by examining the outputs of $f$ or by plotting.  For instance, using the above function and try to solve \n",
        "$$\n",
        "\\frac{e^{4x}-1}x = 4.5\n",
        "$$"
      ],
      "metadata": {
        "id": "ezoH8Vym0JME"
      }
    },
    {
      "cell_type": "code",
      "source": [
        "nsolve(f-4.5,x,5)"
      ],
      "metadata": {
        "id": "fmKQIUjp1W2s",
        "outputId": "72da1658-eddd-4c17-81b2-264e40ec3c87",
        "colab": {
          "base_uri": "https://localhost:8080/",
          "height": 336
        }
      },
      "execution_count": 14,
      "outputs": [
        {
          "output_type": "error",
          "ename": "ValueError",
          "evalue": "ignored",
          "traceback": [
            "\u001b[0;31m---------------------------------------------------------------------------\u001b[0m",
            "\u001b[0;31mValueError\u001b[0m                                Traceback (most recent call last)",
            "\u001b[0;32m<ipython-input-14-6544207836c1>\u001b[0m in \u001b[0;36m<module>\u001b[0;34m\u001b[0m\n\u001b[0;32m----> 1\u001b[0;31m \u001b[0mnsolve\u001b[0m\u001b[0;34m(\u001b[0m\u001b[0mf\u001b[0m\u001b[0;34m-\u001b[0m\u001b[0;36m4.5\u001b[0m\u001b[0;34m,\u001b[0m\u001b[0mx\u001b[0m\u001b[0;34m,\u001b[0m\u001b[0;36m5\u001b[0m\u001b[0;34m)\u001b[0m\u001b[0;34m\u001b[0m\u001b[0;34m\u001b[0m\u001b[0m\n\u001b[0m",
            "\u001b[0;32m/usr/local/lib/python3.7/dist-packages/sympy/utilities/decorator.py\u001b[0m in \u001b[0;36mfunc_wrapper\u001b[0;34m(*args, **kwargs)\u001b[0m\n\u001b[1;32m     86\u001b[0m         \u001b[0mdps\u001b[0m \u001b[0;34m=\u001b[0m \u001b[0mmpmath\u001b[0m\u001b[0;34m.\u001b[0m\u001b[0mmp\u001b[0m\u001b[0;34m.\u001b[0m\u001b[0mdps\u001b[0m\u001b[0;34m\u001b[0m\u001b[0;34m\u001b[0m\u001b[0m\n\u001b[1;32m     87\u001b[0m         \u001b[0;32mtry\u001b[0m\u001b[0;34m:\u001b[0m\u001b[0;34m\u001b[0m\u001b[0;34m\u001b[0m\u001b[0m\n\u001b[0;32m---> 88\u001b[0;31m             \u001b[0;32mreturn\u001b[0m \u001b[0mfunc\u001b[0m\u001b[0;34m(\u001b[0m\u001b[0;34m*\u001b[0m\u001b[0margs\u001b[0m\u001b[0;34m,\u001b[0m \u001b[0;34m**\u001b[0m\u001b[0mkwargs\u001b[0m\u001b[0;34m)\u001b[0m\u001b[0;34m\u001b[0m\u001b[0;34m\u001b[0m\u001b[0m\n\u001b[0m\u001b[1;32m     89\u001b[0m         \u001b[0;32mfinally\u001b[0m\u001b[0;34m:\u001b[0m\u001b[0;34m\u001b[0m\u001b[0;34m\u001b[0m\u001b[0m\n\u001b[1;32m     90\u001b[0m             \u001b[0mmpmath\u001b[0m\u001b[0;34m.\u001b[0m\u001b[0mmp\u001b[0m\u001b[0;34m.\u001b[0m\u001b[0mdps\u001b[0m \u001b[0;34m=\u001b[0m \u001b[0mdps\u001b[0m\u001b[0;34m\u001b[0m\u001b[0;34m\u001b[0m\u001b[0m\n",
            "\u001b[0;32m/usr/local/lib/python3.7/dist-packages/sympy/solvers/solvers.py\u001b[0m in \u001b[0;36mnsolve\u001b[0;34m(dict, *args, **kwargs)\u001b[0m\n\u001b[1;32m   2932\u001b[0m \u001b[0;34m\u001b[0m\u001b[0m\n\u001b[1;32m   2933\u001b[0m         \u001b[0mf\u001b[0m \u001b[0;34m=\u001b[0m \u001b[0mlambdify\u001b[0m\u001b[0;34m(\u001b[0m\u001b[0mfargs\u001b[0m\u001b[0;34m,\u001b[0m \u001b[0mf\u001b[0m\u001b[0;34m,\u001b[0m \u001b[0mmodules\u001b[0m\u001b[0;34m)\u001b[0m\u001b[0;34m\u001b[0m\u001b[0;34m\u001b[0m\u001b[0m\n\u001b[0;32m-> 2934\u001b[0;31m         \u001b[0mx\u001b[0m \u001b[0;34m=\u001b[0m \u001b[0msympify\u001b[0m\u001b[0;34m(\u001b[0m\u001b[0mfindroot\u001b[0m\u001b[0;34m(\u001b[0m\u001b[0mf\u001b[0m\u001b[0;34m,\u001b[0m \u001b[0mx0\u001b[0m\u001b[0;34m,\u001b[0m \u001b[0;34m**\u001b[0m\u001b[0mkwargs\u001b[0m\u001b[0;34m)\u001b[0m\u001b[0;34m)\u001b[0m\u001b[0;34m\u001b[0m\u001b[0;34m\u001b[0m\u001b[0m\n\u001b[0m\u001b[1;32m   2935\u001b[0m         \u001b[0;32mif\u001b[0m \u001b[0mas_dict\u001b[0m\u001b[0;34m:\u001b[0m\u001b[0;34m\u001b[0m\u001b[0;34m\u001b[0m\u001b[0m\n\u001b[1;32m   2936\u001b[0m             \u001b[0;32mreturn\u001b[0m \u001b[0;34m[\u001b[0m\u001b[0;34m{\u001b[0m\u001b[0mfargs\u001b[0m\u001b[0;34m:\u001b[0m \u001b[0mx\u001b[0m\u001b[0;34m}\u001b[0m\u001b[0;34m]\u001b[0m\u001b[0;34m\u001b[0m\u001b[0;34m\u001b[0m\u001b[0m\n",
            "\u001b[0;32m/usr/local/lib/python3.7/dist-packages/mpmath/calculus/optimization.py\u001b[0m in \u001b[0;36mfindroot\u001b[0;34m(ctx, f, x0, solver, tol, verbose, verify, **kwargs)\u001b[0m\n\u001b[1;32m    986\u001b[0m                              \u001b[0;34m'(%s > %s)\\n'\u001b[0m\u001b[0;34m\u001b[0m\u001b[0;34m\u001b[0m\u001b[0m\n\u001b[1;32m    987\u001b[0m                              \u001b[0;34m'Try another starting point or tweak arguments.'\u001b[0m\u001b[0;34m\u001b[0m\u001b[0;34m\u001b[0m\u001b[0m\n\u001b[0;32m--> 988\u001b[0;31m                              % (norm(f(*xl))**2, tol))\n\u001b[0m\u001b[1;32m    989\u001b[0m         \u001b[0;32mreturn\u001b[0m \u001b[0mx\u001b[0m\u001b[0;34m\u001b[0m\u001b[0;34m\u001b[0m\u001b[0m\n\u001b[1;32m    990\u001b[0m     \u001b[0;32mfinally\u001b[0m\u001b[0;34m:\u001b[0m\u001b[0;34m\u001b[0m\u001b[0;34m\u001b[0m\u001b[0m\n",
            "\u001b[0;31mValueError\u001b[0m: Could not find root within given tolerance. (1.33797780588811176716e-10 > 2.16840434497100886801e-19)\nTry another starting point or tweak arguments."
          ]
        }
      ]
    },
    {
      "cell_type": "markdown",
      "source": [
        "The number 5 is not close enough to the solution!  If I pick 1,"
      ],
      "metadata": {
        "id": "Vcp7CnYH1jEJ"
      }
    },
    {
      "cell_type": "code",
      "source": [
        "nsolve(f-4.5,x,1)"
      ],
      "metadata": {
        "id": "p9fFFMhQ1piA",
        "outputId": "f8391234-aee5-4fdf-e666-33d4dd2b5967",
        "colab": {
          "base_uri": "https://localhost:8080/",
          "height": 37
        }
      },
      "execution_count": 15,
      "outputs": [
        {
          "output_type": "execute_result",
          "data": {
            "text/plain": [
              "0.0577792007362896"
            ],
            "text/latex": "$\\displaystyle 0.0577792007362896$"
          },
          "metadata": {},
          "execution_count": 15
        }
      ]
    },
    {
      "cell_type": "markdown",
      "source": [
        "It works!  We could see that 1 is close to that solution! I could have even done better but you'll just need to be close to the actual solution."
      ],
      "metadata": {
        "id": "e-PJPaPy1stJ"
      }
    },
    {
      "cell_type": "code",
      "source": [
        "plot(f-4.5,(x,0.0001,1))"
      ],
      "metadata": {
        "id": "b9ZjNfJ41zPS",
        "outputId": "d9d371b5-374d-4a33-b59a-fd00aaa0097c",
        "colab": {
          "base_uri": "https://localhost:8080/",
          "height": 314
        }
      },
      "execution_count": 16,
      "outputs": [
        {
          "output_type": "display_data",
          "data": {
            "text/plain": [
              "<Figure size 432x288 with 1 Axes>"
            ],
            "image/png": "[encoded data removed]"
          },
          "metadata": {
            "needs_background": "light"
          }
        },
        {
          "output_type": "execute_result",
          "data": {
            "text/plain": [
              "<sympy.plotting.plot.Plot at 0x7f7ca1768510>"
            ]
          },
          "metadata": {},
          "execution_count": 16
        }
      ]
    },
    {
      "cell_type": "markdown",
      "source": [
        "## Derivatives \n",
        "\n",
        "These aren't terrible either!"
      ],
      "metadata": {
        "id": "722uNJ2PkWJI"
      }
    },
    {
      "cell_type": "code",
      "source": [
        "f.diff(x)"
      ],
      "metadata": {
        "id": "AXPfz7MKjqGb"
      },
      "execution_count": null,
      "outputs": []
    },
    {
      "cell_type": "markdown",
      "source": [
        "This is the derivative.  I could check it by doing the limit!\n",
        "\n",
        "$$\n",
        "f'(a) = \\lim_{x\\to a}\\frac{f(x)-f(a)}{x-a}\n",
        "$$"
      ],
      "metadata": {
        "id": "dX31snPEkgPA"
      }
    },
    {
      "cell_type": "code",
      "source": [
        "a = symbols('a')\n",
        "\n",
        "limit((f-f.subs(x,a))/(x-a),x,a).simplify()"
      ],
      "metadata": {
        "id": "WMqCFp_bkcRi"
      },
      "execution_count": null,
      "outputs": []
    },
    {
      "cell_type": "code",
      "source": [
        "f.diff(x).simplify()"
      ],
      "metadata": {
        "id": "cSBvDskVk5_Y"
      },
      "execution_count": null,
      "outputs": []
    },
    {
      "cell_type": "markdown",
      "source": [
        "These do agree after adding the `.simplify()` command!"
      ],
      "metadata": {
        "id": "HLJnNLtUlGNt"
      }
    },
    {
      "cell_type": "markdown",
      "source": [
        "## Equation of the Tangent Line"
      ],
      "metadata": {
        "id": "cV0LnJSQ3Srn"
      }
    },
    {
      "cell_type": "markdown",
      "source": [
        "If I wanted the equation of the tangent line, I could find,\n",
        "$$\n",
        "y = m(x-x_0)+y_0\n",
        "$$\n",
        "where $m = f'(x_0)$.\n",
        "\n",
        "So taking my equation above and using $x_0 = 1$."
      ],
      "metadata": {
        "id": "veYvL1KY2QjU"
      }
    },
    {
      "cell_type": "code",
      "source": [
        "line = f.diff(x).subs(x,1)*(x-1)+f.subs(x,1)\n",
        "\n",
        "line"
      ],
      "metadata": {
        "id": "Q04kbtCBlETw"
      },
      "execution_count": null,
      "outputs": []
    },
    {
      "cell_type": "code",
      "source": [
        "from sympy.plotting import plot\n",
        "\n",
        "plot(f,line , (x,0.9,2))#I changed the domain of the plot to better see the tangent touch"
      ],
      "metadata": {
        "id": "Q0zX9wnB22ph"
      },
      "execution_count": null,
      "outputs": []
    },
    {
      "cell_type": "markdown",
      "source": [
        "We see that at 1 it comes in and just touches the graph!"
      ],
      "metadata": {
        "id": "F8u8V_gl3LRE"
      }
    },
    {
      "cell_type": "code",
      "source": [],
      "metadata": {
        "id": "BmWc99nK3EqR"
      },
      "execution_count": null,
      "outputs": []
    }
  ]
}