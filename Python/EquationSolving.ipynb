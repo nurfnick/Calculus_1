{
  "nbformat": 4,
  "nbformat_minor": 0,
  "metadata": {
    "colab": {
      "name": "Untitled114.ipynb",
      "provenance": [],
      "authorship_tag": "ABX9TyOqTJA+be82aK4iCEvdwjcq",
      "include_colab_link": true
    },
    "kernelspec": {
      "name": "python3",
      "display_name": "Python 3"
    },
    "language_info": {
      "name": "python"
    }
  },
  "cells": [
    {
      "cell_type": "markdown",
      "metadata": {
        "id": "view-in-github",
        "colab_type": "text"
      },
      "source": [
        "<a href=\"https://colab.research.google.com/github/nurfnick/Calculus_1/blob/main/Python/EquationSolving.ipynb\" target=\"_parent\"><img src=\"https://colab.research.google.com/assets/colab-badge.svg\" alt=\"Open In Colab\"/></a>"
      ]
    },
    {
      "cell_type": "markdown",
      "source": [
        "# Equation Solving in Python"
      ],
      "metadata": {
        "id": "MsODDHJtaEeP"
      }
    },
    {
      "cell_type": "markdown",
      "source": [
        "Using the `sympy` package, equation solving is quite straight forward.  You'll need for the equation to equal 0.  We solve the equation\n",
        "$$\n",
        "x^2-3x-4=0\n",
        "$$\n",
        "by defining $f(x) = x^2-3x-4$ and solving for $x$."
      ],
      "metadata": {
        "id": "y3HmiU4Rai-f"
      }
    },
    {
      "cell_type": "code",
      "execution_count": 1,
      "metadata": {
        "id": "3zRPTxmwaD7X"
      },
      "outputs": [],
      "source": [
        "from sympy import *\n",
        "\n",
        "x = symbols('x')\n",
        "\n",
        "f = x**2-3*x-4"
      ]
    },
    {
      "cell_type": "code",
      "source": [
        "solve(f,x)"
      ],
      "metadata": {
        "colab": {
          "base_uri": "https://localhost:8080/"
        },
        "id": "6Ul3jHTFaa83",
        "outputId": "1882df0f-4622-4003-b568-567dc06de3a8"
      },
      "execution_count": 2,
      "outputs": [
        {
          "output_type": "execute_result",
          "data": {
            "text/plain": [
              "[-1, 4]"
            ]
          },
          "metadata": {},
          "execution_count": 2
        }
      ]
    },
    {
      "cell_type": "markdown",
      "source": [
        "Of course this is not terribly interesting solutions.  Let's get something a little more challenging.\n",
        "\n",
        "$$\n",
        "2\\tan(\\theta) -\\frac{1}{\\cos^2(\\theta)}=0\n",
        "$$"
      ],
      "metadata": {
        "id": "q-_YnJdEa-fk"
      }
    },
    {
      "cell_type": "code",
      "source": [
        "theta = symbols('theta')\n",
        "g = 2*tan(theta)-1/(cos(theta))**2\n",
        "\n",
        "g"
      ],
      "metadata": {
        "colab": {
          "base_uri": "https://localhost:8080/",
          "height": 55
        },
        "id": "gPoewTIsaetZ",
        "outputId": "108fec03-3a20-46a7-bf89-9d91e9f716c4"
      },
      "execution_count": 4,
      "outputs": [
        {
          "output_type": "execute_result",
          "data": {
            "text/plain": [
              "2*tan(theta) - 1/cos(theta)**2"
            ],
            "text/latex": "$\\displaystyle 2 \\tan{\\left(\\theta \\right)} - \\frac{1}{\\cos^{2}{\\left(\\theta \\right)}}$"
          },
          "metadata": {},
          "execution_count": 4
        }
      ]
    },
    {
      "cell_type": "code",
      "source": [
        "solve(g,theta)"
      ],
      "metadata": {
        "colab": {
          "base_uri": "https://localhost:8080/"
        },
        "id": "tz1W88QKbzAA",
        "outputId": "30eaf29f-096f-4bde-b83d-d727e47d2897"
      },
      "execution_count": 5,
      "outputs": [
        {
          "output_type": "execute_result",
          "data": {
            "text/plain": [
              "[-3*pi/4, pi/4]"
            ]
          },
          "metadata": {},
          "execution_count": 5
        }
      ]
    },
    {
      "cell_type": "code",
      "source": [
        "g.subs(theta,pi/4)"
      ],
      "metadata": {
        "colab": {
          "base_uri": "https://localhost:8080/",
          "height": 37
        },
        "id": "h3OQLzYKb5yo",
        "outputId": "b02228cb-a855-4226-c7c1-2807c925834e"
      },
      "execution_count": 9,
      "outputs": [
        {
          "output_type": "execute_result",
          "data": {
            "text/plain": [
              "0"
            ],
            "text/latex": "$\\displaystyle 0$"
          },
          "metadata": {},
          "execution_count": 9
        }
      ]
    },
    {
      "cell_type": "code",
      "source": [
        ""
      ],
      "metadata": {
        "id": "lSTqOFdbcB6x"
      },
      "execution_count": null,
      "outputs": []
    }
  ]
}