{
  "nbformat": 4,
  "nbformat_minor": 0,
  "metadata": {
    "colab": {
      "name": "Untitled112.ipynb",
      "provenance": [],
      "authorship_tag": "ABX9TyNaH3NRf9+kW4A39NEb4c8X",
      "include_colab_link": true
    },
    "kernelspec": {
      "name": "python3",
      "display_name": "Python 3"
    },
    "language_info": {
      "name": "python"
    }
  },
  "cells": [
    {
      "cell_type": "markdown",
      "metadata": {
        "id": "view-in-github",
        "colab_type": "text"
      },
      "source": [
        "<a href=\"https://colab.research.google.com/github/nurfnick/Calculus_1/blob/main/Python/InequalityAttempt.ipynb\" target=\"_parent\"><img src=\"https://colab.research.google.com/assets/colab-badge.svg\" alt=\"Open In Colab\"/></a>"
      ]
    },
    {
      "cell_type": "markdown",
      "source": [
        "# Inequalities in Python\n",
        "\n"
      ],
      "metadata": {
        "id": "jaJ9Xl4rNjxR"
      }
    },
    {
      "cell_type": "markdown",
      "source": [
        "I want to see if I can solve some simple inequalities using python.  We'll start by loading the `sympy` package."
      ],
      "metadata": {
        "id": "SSgruP5_Nn-A"
      }
    },
    {
      "cell_type": "code",
      "execution_count": null,
      "metadata": {
        "id": "7tiZTeWINZu0"
      },
      "outputs": [],
      "source": [
        "from sympy import *"
      ]
    },
    {
      "cell_type": "markdown",
      "source": [
        "Let's look at something simple.\n",
        "$$\n",
        "x\\ge 5\n",
        "$$"
      ],
      "metadata": {
        "id": "sozRfOG1OI0y"
      }
    },
    {
      "cell_type": "code",
      "source": [
        "x = symbols('x')\n",
        "\n",
        "solve_poly_inequality(Poly(x- 5),'>=')\n"
      ],
      "metadata": {
        "colab": {
          "base_uri": "https://localhost:8080/"
        },
        "id": "Jfsvbh7_OH7Z",
        "outputId": "46053a8a-ef0b-4e31-800a-8a2323a5f719"
      },
      "execution_count": null,
      "outputs": [
        {
          "output_type": "execute_result",
          "data": {
            "text/plain": [
              "[Interval(5, oo)]"
            ]
          },
          "metadata": {},
          "execution_count": 3
        }
      ]
    },
    {
      "cell_type": "code",
      "source": [
        "from sympy.solvers.inequalities import solve_poly_inequalities\n",
        "\n",
        "solve_poly_inequalities(((\n",
        "Poly(x**2 - 3), \">\"), (\n",
        "Poly(-x**2 + 1), \">\")))"
      ],
      "metadata": {
        "colab": {
          "base_uri": "https://localhost:8080/",
          "height": 48
        },
        "id": "SE2bjN5VOeSg",
        "outputId": "6f30cfb3-6e3a-4f53-bd34-0b6cb1af2af1"
      },
      "execution_count": null,
      "outputs": [
        {
          "output_type": "execute_result",
          "data": {
            "text/plain": [
              "Union(Interval.open(-oo, -sqrt(3)), Interval.open(-1, 1), Interval.open(sqrt(3), oo))"
            ],
            "text/latex": "$\\displaystyle \\left(-\\infty, - \\sqrt{3}\\right) \\cup \\left(-1, 1\\right) \\cup \\left(\\sqrt{3}, \\infty\\right)$"
          },
          "metadata": {},
          "execution_count": 4
        }
      ]
    },
    {
      "cell_type": "code",
      "source": [
        "solve_poly_inequality(Poly(abs(x)-5),\">\")"
      ],
      "metadata": {
        "colab": {
          "base_uri": "https://localhost:8080/"
        },
        "id": "pNzvYLscP-5g",
        "outputId": "57e5af5d-92b7-4212-d8e9-7034b7a386ff"
      },
      "execution_count": null,
      "outputs": [
        {
          "output_type": "execute_result",
          "data": {
            "text/plain": [
              "[Interval.open(5, oo)]"
            ]
          },
          "metadata": {},
          "execution_count": 7
        }
      ]
    },
    {
      "cell_type": "code",
      "source": [
        ""
      ],
      "metadata": {
        "id": "xS2-654rvyzC"
      },
      "execution_count": null,
      "outputs": []
    }
  ]
}