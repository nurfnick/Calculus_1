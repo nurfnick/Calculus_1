{
  "nbformat": 4,
  "nbformat_minor": 0,
  "metadata": {
    "colab": {
      "provenance": [],
      "authorship_tag": "ABX9TyOe/QL+uwhokDY+VmSlvds0",
      "include_colab_link": true
    },
    "kernelspec": {
      "name": "python3",
      "display_name": "Python 3"
    },
    "language_info": {
      "name": "python"
    }
  },
  "cells": [
    {
      "cell_type": "markdown",
      "metadata": {
        "id": "view-in-github",
        "colab_type": "text"
      },
      "source": [
        "<a href=\"https://colab.research.google.com/github/nurfnick/Calculus_1/blob/main/Python/RiemannSums.ipynb\" target=\"_parent\"><img src=\"https://colab.research.google.com/assets/colab-badge.svg\" alt=\"Open In Colab\"/></a>"
      ]
    },
    {
      "cell_type": "code",
      "execution_count": 1,
      "metadata": {
        "id": "3nROSYH-LmIu"
      },
      "outputs": [],
      "source": [
        "from sympy import *"
      ]
    },
    {
      "cell_type": "code",
      "source": [
        "x = Symbol('x')"
      ],
      "metadata": {
        "id": "RBIXvaqULqK5"
      },
      "execution_count": 3,
      "outputs": []
    },
    {
      "cell_type": "code",
      "source": [
        "f = E**x\n",
        "f"
      ],
      "metadata": {
        "colab": {
          "base_uri": "https://localhost:8080/",
          "height": 38
        },
        "id": "umZUR3w5Lv2K",
        "outputId": "292634de-70fd-4607-8740-c0b79fec1772"
      },
      "execution_count": 6,
      "outputs": [
        {
          "output_type": "execute_result",
          "data": {
            "text/plain": [
              "exp(x)"
            ],
            "text/latex": "$\\displaystyle e^{x}$"
          },
          "metadata": {},
          "execution_count": 6
        }
      ]
    },
    {
      "cell_type": "code",
      "source": [
        "f.integrate((x,1,3))"
      ],
      "metadata": {
        "colab": {
          "base_uri": "https://localhost:8080/",
          "height": 38
        },
        "id": "X9DqHdN1L0J6",
        "outputId": "38356e9b-4ec1-427d-c0b9-551e9c32a2af"
      },
      "execution_count": 8,
      "outputs": [
        {
          "output_type": "execute_result",
          "data": {
            "text/plain": [
              "-E + exp(3)"
            ],
            "text/latex": "$\\displaystyle - e + e^{3}$"
          },
          "metadata": {},
          "execution_count": 8
        }
      ]
    },
    {
      "cell_type": "markdown",
      "source": [
        "$$\n",
        "\\int_1^3e^x\\ dx\n",
        "$$"
      ],
      "metadata": {
        "id": "QIMl1lBNL-7c"
      }
    },
    {
      "cell_type": "code",
      "source": [
        "n= Symbol('n')\n",
        "i = Symbol('i')\n",
        "\n",
        "f.subs(x,1+2*i/n)*2/n"
      ],
      "metadata": {
        "colab": {
          "base_uri": "https://localhost:8080/",
          "height": 56
        },
        "id": "7cotZPxCL9AJ",
        "outputId": "cc43c6f8-825e-4b17-ee50-70cb2f3b75c3"
      },
      "execution_count": 13,
      "outputs": [
        {
          "output_type": "execute_result",
          "data": {
            "text/plain": [
              "2*exp(2*i/n + 1)/n"
            ],
            "text/latex": "$\\displaystyle \\frac{2 e^{\\frac{2 i}{n} + 1}}{n}$"
          },
          "metadata": {},
          "execution_count": 13
        }
      ]
    },
    {
      "cell_type": "code",
      "source": [
        "Sum(f.subs(x,1+2*i/n)*2/n,(i,1,n))"
      ],
      "metadata": {
        "colab": {
          "base_uri": "https://localhost:8080/",
          "height": 67
        },
        "id": "amNrQwzgMzQ8",
        "outputId": "9db65cfe-abd8-4199-f3bf-f5e82e171ea4"
      },
      "execution_count": 14,
      "outputs": [
        {
          "output_type": "execute_result",
          "data": {
            "text/plain": [
              "Sum(2*exp(2*i/n + 1)/n, (i, 1, n))"
            ],
            "text/latex": "$\\displaystyle \\sum_{i=1}^{n} \\frac{2 e^{\\frac{2 i}{n} + 1}}{n}$"
          },
          "metadata": {},
          "execution_count": 14
        }
      ]
    },
    {
      "cell_type": "code",
      "source": [
        "Sum(f.subs(x,1+2*i/n)*2/n,(i,1,n)).subs(n,10).simplify()"
      ],
      "metadata": {
        "colab": {
          "base_uri": "https://localhost:8080/",
          "height": 57
        },
        "id": "G71pmcDFNZD8",
        "outputId": "3532b453-dccf-4dd0-8959-f02529daf36d"
      },
      "execution_count": 19,
      "outputs": [
        {
          "output_type": "execute_result",
          "data": {
            "text/plain": [
              "E*Sum(exp(i/5), (i, 1, 10))/5"
            ],
            "text/latex": "$\\displaystyle \\frac{e \\sum_{i=1}^{10} e^{\\frac{i}{5}}}{5}$"
          },
          "metadata": {},
          "execution_count": 19
        }
      ]
    },
    {
      "cell_type": "code",
      "source": [
        "g = sqrt(1-x**2)\n",
        "\n",
        "g"
      ],
      "metadata": {
        "colab": {
          "base_uri": "https://localhost:8080/",
          "height": 40
        },
        "id": "N0lbOXanNr2r",
        "outputId": "f45d8010-0ee1-4d89-eb5f-d14ca9408a36"
      },
      "execution_count": 20,
      "outputs": [
        {
          "output_type": "execute_result",
          "data": {
            "text/plain": [
              "sqrt(1 - x**2)"
            ],
            "text/latex": "$\\displaystyle \\sqrt{1 - x^{2}}$"
          },
          "metadata": {},
          "execution_count": 20
        }
      ]
    },
    {
      "cell_type": "code",
      "source": [
        "plot(g,(x,-1,1))"
      ],
      "metadata": {
        "colab": {
          "base_uri": "https://localhost:8080/",
          "height": 314
        },
        "id": "sevphDSlOwa7",
        "outputId": "669ebd77-96ea-4eb0-eebd-67b229177b8f"
      },
      "execution_count": 24,
      "outputs": [
        {
          "output_type": "display_data",
          "data": {
            "text/plain": [
              "<Figure size 432x288 with 1 Axes>"
            ],
            "image/png": "[encoded data removed]"
          },
          "metadata": {
            "needs_background": "light"
          }
        },
        {
          "output_type": "execute_result",
          "data": {
            "text/plain": [
              "<sympy.plotting.plot.Plot at 0x7fb050590290>"
            ]
          },
          "metadata": {},
          "execution_count": 24
        }
      ]
    },
    {
      "cell_type": "code",
      "source": [],
      "metadata": {
        "id": "R1y3H8RmOyds"
      },
      "execution_count": null,
      "outputs": []
    }
  ]
}