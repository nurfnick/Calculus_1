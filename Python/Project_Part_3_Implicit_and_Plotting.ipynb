{
  "nbformat": 4,
  "nbformat_minor": 0,
  "metadata": {
    "colab": {
      "provenance": [],
      "authorship_tag": "ABX9TyPD4/7+Ieo8zj78ciqh5z8V",
      "include_colab_link": true
    },
    "kernelspec": {
      "name": "python3",
      "display_name": "Python 3"
    },
    "language_info": {
      "name": "python"
    }
  },
  "cells": [
    {
      "cell_type": "markdown",
      "metadata": {
        "id": "view-in-github",
        "colab_type": "text"
      },
      "source": [
        "<a href=\"https://colab.research.google.com/github/nurfnick/Calculus_1/blob/main/Project_Part_3_Implicit_and_Plotting.ipynb\" target=\"_parent\"><img src=\"https://colab.research.google.com/assets/colab-badge.svg\" alt=\"Open In Colab\"/></a>"
      ]
    },
    {
      "cell_type": "markdown",
      "source": [
        "# Project 3 "
      ],
      "metadata": {
        "id": "vaWI_GnIWRzu"
      }
    },
    {
      "cell_type": "markdown",
      "source": [
        "There are a few new things happening in project part 3."
      ],
      "metadata": {
        "id": "vSG50W64WVT2"
      }
    },
    {
      "cell_type": "markdown",
      "source": [
        "## Implicit Functions\n",
        "\n",
        "To plot an implicit function we'll use sympy"
      ],
      "metadata": {
        "id": "ZCiohjFcWe8u"
      }
    },
    {
      "cell_type": "code",
      "execution_count": 21,
      "metadata": {
        "colab": {
          "base_uri": "https://localhost:8080/",
          "height": 287
        },
        "id": "RQ1oyNV5WRMd",
        "outputId": "5746a3aa-b43a-4311-a6ae-5e9d1e4ffffc"
      },
      "outputs": [
        {
          "output_type": "execute_result",
          "data": {
            "text/plain": [
              "<matplotlib.contour.QuadContourSet at 0x7fc907015850>"
            ]
          },
          "metadata": {},
          "execution_count": 21
        },
        {
          "output_type": "display_data",
          "data": {
            "text/plain": [
              "<Figure size 432x288 with 1 Axes>"
            ],
            "image/png": "[encoded data removed]"
          },
          "metadata": {
            "needs_background": "light"
          }
        }
      ],
      "source": [
        "import numpy as np\n",
        "import matplotlib.pyplot as plt\n",
        "\n",
        "x,y = np.meshgrid(np.linspace(-3, 3, 1000), np.linspace(-3, 3,1000))\n",
        "\n",
        "plt.contour(x,y,x**2 + y**3-1,0)"
      ]
    },
    {
      "cell_type": "code",
      "source": [
        "from sympy import *\n",
        "\n",
        "x, y = symbols('x y')\n",
        "\n",
        "plot_implicit(Eq(x**2 + y**3, 1))"
      ],
      "metadata": {
        "colab": {
          "base_uri": "https://localhost:8080/",
          "height": 315
        },
        "id": "kRWn4ZAPXXwm",
        "outputId": "d1cac45c-2950-46c1-adc7-307157a3defc"
      },
      "execution_count": 16,
      "outputs": [
        {
          "output_type": "display_data",
          "data": {
            "text/plain": [
              "<Figure size 432x288 with 1 Axes>"
            ],
            "image/png": "[encoded data removed]"
          },
          "metadata": {
            "needs_background": "light"
          }
        },
        {
          "output_type": "execute_result",
          "data": {
            "text/plain": [
              "<sympy.plotting.plot.Plot at 0x7fc90793c8d0>"
            ]
          },
          "metadata": {},
          "execution_count": 16
        }
      ]
    },
    {
      "cell_type": "markdown",
      "source": [
        "Here I have plotted \n",
        "$$\n",
        "x^2+y^3 =1\n",
        "$$"
      ],
      "metadata": {
        "id": "1v01yd2fWsDO"
      }
    },
    {
      "cell_type": "markdown",
      "source": [
        "To take the derivative of this function, we use the following technique"
      ],
      "metadata": {
        "id": "v7r8gaLMW5PO"
      }
    },
    {
      "cell_type": "code",
      "source": [
        "\n",
        "y = Function('y')(x)\n",
        "\n",
        "diff(x**2+y**3,x)"
      ],
      "metadata": {
        "colab": {
          "base_uri": "https://localhost:8080/",
          "height": 52
        },
        "id": "BrbCz8s6Wp4w",
        "outputId": "49b8de9a-339d-4d74-8271-bb7c11adb703"
      },
      "execution_count": 17,
      "outputs": [
        {
          "output_type": "execute_result",
          "data": {
            "text/plain": [
              "2*x + 3*y(x)**2*Derivative(y(x), x)"
            ],
            "text/latex": "$\\displaystyle 2 x + 3 y^{2}{\\left(x \\right)} \\frac{d}{d x} y{\\left(x \\right)}$"
          },
          "metadata": {},
          "execution_count": 17
        }
      ]
    },
    {
      "cell_type": "markdown",
      "source": [
        "But this did not solve for the derivative.  The following will"
      ],
      "metadata": {
        "id": "3iK9X_KRYttq"
      }
    },
    {
      "cell_type": "code",
      "source": [
        "var( 'x y' )\n",
        "formula = x**2 + y**3 - 1   # to represent x^2+y^3=1\n",
        "idiff( formula, y, x )"
      ],
      "metadata": {
        "colab": {
          "base_uri": "https://localhost:8080/",
          "height": 54
        },
        "id": "WECjozpOXHYm",
        "outputId": "562978bc-a444-45f0-d90b-6d8391488325"
      },
      "execution_count": 23,
      "outputs": [
        {
          "output_type": "execute_result",
          "data": {
            "text/plain": [
              "-2*x/(3*y**2)"
            ],
            "text/latex": "$\\displaystyle - \\frac{2 x}{3 y^{2}}$"
          },
          "metadata": {},
          "execution_count": 23
        }
      ]
    },
    {
      "cell_type": "markdown",
      "source": [
        "The big difference being that it solves the derivative for you!"
      ],
      "metadata": {
        "id": "T3BqvLvEY5iV"
      }
    },
    {
      "cell_type": "markdown",
      "source": [
        "## Vertical Tangents"
      ],
      "metadata": {
        "id": "J5UWMvZwo99X"
      }
    },
    {
      "cell_type": "markdown",
      "source": [
        "Vertical tangents will be where the derivative of your function is not defined.  We see that here at $y=0$.  To find that, we solve the equation for x when $y=0$."
      ],
      "metadata": {
        "id": "77NbWXRHpBDL"
      }
    },
    {
      "cell_type": "code",
      "source": [
        "solve(formula.subs(y,0),x)"
      ],
      "metadata": {
        "colab": {
          "base_uri": "https://localhost:8080/"
        },
        "id": "Mw-xdHpLpATD",
        "outputId": "467917b6-2412-4548-df2f-761f45386f10"
      },
      "execution_count": 24,
      "outputs": [
        {
          "output_type": "execute_result",
          "data": {
            "text/plain": [
              "[-1, 1]"
            ]
          },
          "metadata": {},
          "execution_count": 24
        }
      ]
    },
    {
      "cell_type": "markdown",
      "source": [
        "$x=\\pm1$ is clearly where the tangent line is vertical.  Let's graph it too."
      ],
      "metadata": {
        "id": "Bgb23lrNpvuq"
      }
    },
    {
      "cell_type": "code",
      "source": [
        "\n",
        "\n",
        "p1 = plot_implicit(Eq(x**2 + y**3, 1), show = False)\n",
        "p2 = plot_implicit(x-1, show = False)\n",
        "p3 = plot_implicit(Eq(x, -1), show = False)\n",
        "p1.extend(p2)\n",
        "p1.extend(p3)\n",
        "\n",
        "p1.show()\n"
      ],
      "metadata": {
        "colab": {
          "base_uri": "https://localhost:8080/",
          "height": 297
        },
        "id": "r5xpih7DpoOA",
        "outputId": "a714bfde-9caa-4d35-ba49-6470d39cd4d3"
      },
      "execution_count": 44,
      "outputs": [
        {
          "output_type": "display_data",
          "data": {
            "text/plain": [
              "<Figure size 432x288 with 1 Axes>"
            ],
            "image/png": "[encoded data removed]"
          },
          "metadata": {
            "needs_background": "light"
          }
        }
      ]
    },
    {
      "cell_type": "markdown",
      "source": [
        "I had to use implicit to show the veritcal lines.  `extend` will add the graphic to the previous graphic object."
      ],
      "metadata": {
        "id": "A02QflJOrrdK"
      }
    },
    {
      "cell_type": "markdown",
      "source": [
        "## Plotting with Extra Points"
      ],
      "metadata": {
        "id": "VA8IM_KNr8F2"
      }
    },
    {
      "cell_type": "markdown",
      "source": [
        "Let's say I have a cool function and what to show some features of it.  I can plot the function and some points.  I can even label those rad points."
      ],
      "metadata": {
        "id": "PLYDP_AIsBwo"
      }
    },
    {
      "cell_type": "code",
      "source": [
        "f = 5*x**3-3*x**2 -2*x +3\n",
        "\n",
        "df = diff(f,x)\n",
        "\n",
        "ddf = diff(df,x)\n",
        "\n",
        "solve(df,x)#interesing x in a list"
      ],
      "metadata": {
        "colab": {
          "base_uri": "https://localhost:8080/"
        },
        "id": "fs7MHqc7qJFz",
        "outputId": "b08b860d-bc99-41b0-ce2a-7c2029d65e79"
      },
      "execution_count": 80,
      "outputs": [
        {
          "output_type": "execute_result",
          "data": {
            "text/plain": [
              "[1/5 - sqrt(39)/15, 1/5 + sqrt(39)/15]"
            ]
          },
          "metadata": {},
          "execution_count": 80
        }
      ]
    },
    {
      "cell_type": "code",
      "source": [
        "[f.subs(x,a).simplify() for a in solve(df,x)] #interesting ys in a list corresponding to the x's"
      ],
      "metadata": {
        "colab": {
          "base_uri": "https://localhost:8080/"
        },
        "id": "8SVuBrVst3Rf",
        "outputId": "17ba2541-8cd2-44dc-8475-099133481634"
      },
      "execution_count": 84,
      "outputs": [
        {
          "output_type": "execute_result",
          "data": {
            "text/plain": [
              "[26*sqrt(39)/225 + 63/25, 63/25 - 26*sqrt(39)/225]"
            ]
          },
          "metadata": {},
          "execution_count": 84
        }
      ]
    },
    {
      "cell_type": "code",
      "source": [
        "criticalx = solve(df,x)#interesing x\n",
        "criticaly = [f.subs(x,a).simplify() for a in solve(df,x)]\n",
        "\n",
        "\n",
        "xx = np.linspace(-1, 1, 1000)#limits for graph\n",
        "yy = lambdify(x, [f,df,ddf])(xx)#outputs of the functions \n",
        "plt.plot(xx, np.transpose(yy)) #plots of the functions\n",
        "plt.plot(criticalx, criticaly, 'o')# plot critical points with o\n",
        "plt.show()# show it all together\n",
        "\n"
      ],
      "metadata": {
        "colab": {
          "base_uri": "https://localhost:8080/",
          "height": 265
        },
        "id": "rEGQ3eLnsYaI",
        "outputId": "21b1ff94-43d4-4bae-9efb-ed1e920fb53b"
      },
      "execution_count": 92,
      "outputs": [
        {
          "output_type": "display_data",
          "data": {
            "text/plain": [
              "<Figure size 432x288 with 1 Axes>"
            ],
            "image/png": "[encoded data removed]"
          },
          "metadata": {
            "needs_background": "light"
          }
        }
      ]
    },
    {
      "cell_type": "code",
      "source": [],
      "metadata": {
        "id": "DNh5DUz6smrJ"
      },
      "execution_count": null,
      "outputs": []
    }
  ]
}
