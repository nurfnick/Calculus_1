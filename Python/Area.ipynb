{
  "nbformat": 4,
  "nbformat_minor": 0,
  "metadata": {
    "colab": {
      "provenance": [],
      "authorship_tag": "ABX9TyOlzEwrM5UXrxZekDhIJvKN",
      "include_colab_link": true
    },
    "kernelspec": {
      "name": "python3",
      "display_name": "Python 3"
    },
    "language_info": {
      "name": "python"
    }
  },
  "cells": [
    {
      "cell_type": "markdown",
      "metadata": {
        "id": "view-in-github",
        "colab_type": "text"
      },
      "source": [
        "<a href=\"https://colab.research.google.com/github/nurfnick/Calculus_1/blob/main/Python/Area.ipynb\" target=\"_parent\"><img src=\"https://colab.research.google.com/assets/colab-badge.svg\" alt=\"Open In Colab\"/></a>"
      ]
    },
    {
      "cell_type": "code",
      "execution_count": 11,
      "metadata": {
        "id": "ZsRxcJbCuvuV"
      },
      "outputs": [],
      "source": [
        "def f(x):\n",
        "  return -1*x**2/4+2*x\n",
        "\n",
        "a = 2\n",
        "x = [a+i/2 for i in range(0,8)]"
      ]
    },
    {
      "cell_type": "code",
      "source": [
        "x"
      ],
      "metadata": {
        "colab": {
          "base_uri": "https://localhost:8080/"
        },
        "id": "8ohD46LDvB2l",
        "outputId": "1002a074-1750-463c-fb4b-d978e8f6eb6c"
      },
      "execution_count": 2,
      "outputs": [
        {
          "output_type": "execute_result",
          "data": {
            "text/plain": [
              "[2.0, 2.5, 3.0, 3.5, 4.0, 4.5, 5.0, 5.5]"
            ]
          },
          "metadata": {},
          "execution_count": 2
        }
      ]
    },
    {
      "cell_type": "code",
      "source": [
        "sum = 0\n",
        "\n",
        "for x in x:\n",
        "  sum += f(x)*1/2"
      ],
      "metadata": {
        "id": "h8gCgRTWvDJV"
      },
      "execution_count": 3,
      "outputs": []
    },
    {
      "cell_type": "code",
      "source": [
        "sum"
      ],
      "metadata": {
        "colab": {
          "base_uri": "https://localhost:8080/"
        },
        "id": "yn5tZVXpvUj4",
        "outputId": "4aa5a1bf-8dcc-4256-b872-4996ddc40374"
      },
      "execution_count": 4,
      "outputs": [
        {
          "output_type": "execute_result",
          "data": {
            "text/plain": [
              "14.625"
            ]
          },
          "metadata": {},
          "execution_count": 4
        }
      ]
    },
    {
      "cell_type": "code",
      "source": [
        "x = [a+i/2 for i in range(1,9)]\n",
        "\n",
        "x"
      ],
      "metadata": {
        "colab": {
          "base_uri": "https://localhost:8080/"
        },
        "id": "8Ii45FtPvVQH",
        "outputId": "d1206802-84fe-44da-ef35-3a31899b6b17"
      },
      "execution_count": 8,
      "outputs": [
        {
          "output_type": "execute_result",
          "data": {
            "text/plain": [
              "[2.5, 3.0, 3.5, 4.0, 4.5, 5.0, 5.5, 6.0]"
            ]
          },
          "metadata": {},
          "execution_count": 8
        }
      ]
    },
    {
      "cell_type": "code",
      "source": [
        "sum = 0\n",
        "\n",
        "for x in x:\n",
        "  sum += f(x)*1/2"
      ],
      "metadata": {
        "id": "pxd6-PVkvxHn"
      },
      "execution_count": 9,
      "outputs": []
    },
    {
      "cell_type": "code",
      "source": [
        "sum"
      ],
      "metadata": {
        "colab": {
          "base_uri": "https://localhost:8080/"
        },
        "id": "1DDO13HYv06m",
        "outputId": "90d5a033-5316-473c-8585-b3245ca8f7a8"
      },
      "execution_count": 10,
      "outputs": [
        {
          "output_type": "execute_result",
          "data": {
            "text/plain": [
              "14.625"
            ]
          },
          "metadata": {},
          "execution_count": 10
        }
      ]
    },
    {
      "cell_type": "code",
      "source": [
        "x = [a+i/2 for i in range(0,4)]\n",
        "\n",
        "x"
      ],
      "metadata": {
        "id": "SW3Z8DrBv1t1",
        "outputId": "7f2d3fab-e0cd-4dad-95e4-1cb4e76bcae3",
        "colab": {
          "base_uri": "https://localhost:8080/"
        }
      },
      "execution_count": 12,
      "outputs": [
        {
          "output_type": "execute_result",
          "data": {
            "text/plain": [
              "[2.0, 2.5, 3.0, 3.5]"
            ]
          },
          "metadata": {},
          "execution_count": 12
        }
      ]
    },
    {
      "cell_type": "code",
      "source": [
        "#under estimate\n",
        "\n",
        "x = [a+i/2 for i in range(0,4)]\n",
        "\n",
        "sum = 0\n",
        "\n",
        "for x in x:\n",
        "  sum += f(x)*1/2\n",
        "\n",
        "sum"
      ],
      "metadata": {
        "id": "GGKv7tcBKXot",
        "outputId": "369caa3d-db1e-4a9a-8566-469d4b0150d5",
        "colab": {
          "base_uri": "https://localhost:8080/"
        }
      },
      "execution_count": 13,
      "outputs": [
        {
          "output_type": "execute_result",
          "data": {
            "text/plain": [
              "7.0625"
            ]
          },
          "metadata": {},
          "execution_count": 13
        }
      ]
    },
    {
      "cell_type": "code",
      "source": [
        "#overestimate\n",
        "\n",
        "x = [a+i/2 for i in range(1,5)]\n",
        "\n",
        "sum = 0\n",
        "\n",
        "for x in x:\n",
        "  sum += f(x)*1/2\n",
        "\n",
        "sum"
      ],
      "metadata": {
        "id": "zy7hMgc1KcpX",
        "outputId": "34b16a5d-5047-4064-f95e-6ea71e957d9e",
        "colab": {
          "base_uri": "https://localhost:8080/"
        }
      },
      "execution_count": 14,
      "outputs": [
        {
          "output_type": "execute_result",
          "data": {
            "text/plain": [
              "7.5625"
            ]
          },
          "metadata": {},
          "execution_count": 14
        }
      ]
    },
    {
      "cell_type": "code",
      "source": [
        "x = [4+i/2 for i in range(0,4)]\n",
        "\n",
        "sum = 0\n",
        "\n",
        "for x in x:\n",
        "  sum += f(x)*1/2\n",
        "\n",
        "sum"
      ],
      "metadata": {
        "id": "KxDlNvc9KlBo",
        "outputId": "65d83e8f-55ce-40b4-d1ba-5349ac0c8857",
        "colab": {
          "base_uri": "https://localhost:8080/"
        }
      },
      "execution_count": 15,
      "outputs": [
        {
          "output_type": "execute_result",
          "data": {
            "text/plain": [
              "7.5625"
            ]
          },
          "metadata": {},
          "execution_count": 15
        }
      ]
    },
    {
      "cell_type": "code",
      "source": [
        "x = [4+i/2 for i in range(1,5)]\n",
        "\n",
        "sum = 0\n",
        "\n",
        "for x in x:\n",
        "  sum =sum + f(x)*1/2\n",
        "\n",
        "sum"
      ],
      "metadata": {
        "id": "o1v5vhjmK2dI",
        "outputId": "06c30ead-5359-49e0-a98a-8e2b06db81ae",
        "colab": {
          "base_uri": "https://localhost:8080/"
        }
      },
      "execution_count": 16,
      "outputs": [
        {
          "output_type": "execute_result",
          "data": {
            "text/plain": [
              "7.0625"
            ]
          },
          "metadata": {},
          "execution_count": 16
        }
      ]
    },
    {
      "cell_type": "code",
      "source": [
        "[i for i in range(1,5)]"
      ],
      "metadata": {
        "id": "2d05ks_5K5qJ",
        "outputId": "7f194cd5-5baa-4708-dbe8-7bf32a7a1fb6",
        "colab": {
          "base_uri": "https://localhost:8080/"
        }
      },
      "execution_count": 19,
      "outputs": [
        {
          "output_type": "execute_result",
          "data": {
            "text/plain": [
              "[1, 2, 3, 4]"
            ]
          },
          "metadata": {},
          "execution_count": 19
        }
      ]
    },
    {
      "cell_type": "code",
      "source": [],
      "metadata": {
        "id": "4i5tfaUXLly8"
      },
      "execution_count": null,
      "outputs": []
    }
  ]
}