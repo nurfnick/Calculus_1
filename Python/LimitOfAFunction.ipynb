{
  "nbformat": 4,
  "nbformat_minor": 0,
  "metadata": {
    "colab": {
      "name": "Untitled119.ipynb",
      "provenance": [],
      "authorship_tag": "ABX9TyOpu+CgHAWMafuGesvIlSXz",
      "include_colab_link": true
    },
    "kernelspec": {
      "name": "python3",
      "display_name": "Python 3"
    },
    "language_info": {
      "name": "python"
    }
  },
  "cells": [
    {
      "cell_type": "markdown",
      "metadata": {
        "id": "view-in-github",
        "colab_type": "text"
      },
      "source": [
        "<a href=\"https://colab.research.google.com/github/nurfnick/Calculus_1/blob/main/Python/LimitOfAFunction.ipynb\" target=\"_parent\"><img src=\"https://colab.research.google.com/assets/colab-badge.svg\" alt=\"Open In Colab\"/></a>"
      ]
    },
    {
      "cell_type": "markdown",
      "source": [
        "# Limit of a Function"
      ],
      "metadata": {
        "id": "-r_qWZPLfrRV"
      }
    },
    {
      "cell_type": "code",
      "source": [
        "import numpy as np #favorite packages\n",
        "import matplotlib.pyplot as plt"
      ],
      "metadata": {
        "id": "SDNx1UvNgBm5"
      },
      "execution_count": 1,
      "outputs": []
    },
    {
      "cell_type": "markdown",
      "source": [
        "Looking at \n",
        "$$\n",
        "\\lim_{x\\to 1}\n",
        "\\frac{x-1}\n",
        "{x^2 -1}\n",
        "$$"
      ],
      "metadata": {
        "id": "GfxF0k9qMkMS"
      }
    },
    {
      "cell_type": "code",
      "source": [
        "def g(x):\n",
        "  return (x-1)/(x**2-1)\n",
        "\n",
        "x = np.linspace(0,2,1000)\n",
        "y = g(x)\n",
        "\n",
        "plt.plot(x,y)"
      ],
      "metadata": {
        "id": "FQvlw8VvMwnf",
        "outputId": "35ff5e30-f0a2-4917-d9b6-9cbcf58a330c",
        "colab": {
          "base_uri": "https://localhost:8080/",
          "height": 283
        }
      },
      "execution_count": 3,
      "outputs": [
        {
          "output_type": "execute_result",
          "data": {
            "text/plain": [
              "[<matplotlib.lines.Line2D at 0x7fdea1678290>]"
            ]
          },
          "metadata": {},
          "execution_count": 3
        },
        {
          "output_type": "display_data",
          "data": {
            "text/plain": [
              "<Figure size 432x288 with 1 Axes>"
            ],
            "image/png": "[encoded data removed]"
          },
          "metadata": {
            "needs_background": "light"
          }
        }
      ]
    },
    {
      "cell_type": "markdown",
      "source": [
        "Let's look at the limit of a function by trying to compute it.\n",
        "\n",
        "$$\n",
        "\\lim_{t\\to 0}\\frac{\\sqrt{t^2+9}-3}{t^2}\n",
        "$$"
      ],
      "metadata": {
        "id": "lL1W5kOKfumY"
      }
    },
    {
      "cell_type": "code",
      "execution_count": null,
      "metadata": {
        "id": "CsVN4AcjfpNP"
      },
      "outputs": [],
      "source": [
        "def f(t):\n",
        "  return (np.sqrt(t**2+9)-3)/t**2"
      ]
    },
    {
      "cell_type": "code",
      "source": [
        "f(1)"
      ],
      "metadata": {
        "colab": {
          "base_uri": "https://localhost:8080/"
        },
        "id": "Q1GkR5lUgS6K",
        "outputId": "403a44c5-8380-446a-ac94-7e05e2025083"
      },
      "execution_count": null,
      "outputs": [
        {
          "output_type": "execute_result",
          "data": {
            "text/plain": [
              "0.16227766016837952"
            ]
          },
          "metadata": {},
          "execution_count": 3
        }
      ]
    },
    {
      "cell_type": "code",
      "source": [
        "bunch_of_values = [-1,1,-.5,.5,-.1,.1,-.05,.05,-.01,.01,.001,.0001,.00001]\n",
        "print('x','f(x)')\n",
        "for i in bunch_of_values:\n",
        "  print(i,f(i))"
      ],
      "metadata": {
        "colab": {
          "base_uri": "https://localhost:8080/"
        },
        "id": "3wIC6j51gUNx",
        "outputId": "f9c5f8cb-bbab-4285-dee9-2275d721c103"
      },
      "execution_count": null,
      "outputs": [
        {
          "output_type": "stream",
          "name": "stdout",
          "text": [
            "x f(x)\n",
            "-1 0.16227766016837952\n",
            "1 0.16227766016837952\n",
            "-0.5 0.16552506059643868\n",
            "0.5 0.16552506059643868\n",
            "-0.1 0.16662039607266974\n",
            "0.1 0.16662039607266974\n",
            "-0.05 0.16665509419979682\n",
            "0.05 0.16665509419979682\n",
            "-0.01 0.16666620370475727\n",
            "0.01 0.16666620370475727\n",
            "0.001 0.1666666618049817\n",
            "0.0001 0.1666666804567285\n",
            "1e-05 0.16666668045672847\n"
          ]
        }
      ]
    },
    {
      "cell_type": "markdown",
      "source": [
        "What value does that go to?"
      ],
      "metadata": {
        "id": "bxo2TEzlh1jv"
      }
    },
    {
      "cell_type": "code",
      "source": [
        "x = 1/6\n",
        "\n",
        "print(x)"
      ],
      "metadata": {
        "colab": {
          "base_uri": "https://localhost:8080/"
        },
        "id": "sAa14cLch5B2",
        "outputId": "ef1b9c40-57cd-4fad-e982-0d0c57138ec5"
      },
      "execution_count": null,
      "outputs": [
        {
          "output_type": "stream",
          "name": "stdout",
          "text": [
            "0.16666666666666666\n"
          ]
        }
      ]
    },
    {
      "cell_type": "code",
      "source": [
        "x = np.linspace(-5,5,10000)\n",
        "\n",
        "y = f(x)\n",
        "\n",
        "plt.plot(x,y)"
      ],
      "metadata": {
        "colab": {
          "base_uri": "https://localhost:8080/",
          "height": 283
        },
        "id": "SWtUK_37gm7Z",
        "outputId": "021790d8-ed22-4a6d-f363-ac0d3622532d"
      },
      "execution_count": null,
      "outputs": [
        {
          "output_type": "execute_result",
          "data": {
            "text/plain": [
              "[<matplotlib.lines.Line2D at 0x7efe9cef7b90>]"
            ]
          },
          "metadata": {},
          "execution_count": 16
        },
        {
          "output_type": "display_data",
          "data": {
            "text/plain": [
              "<Figure size 432x288 with 1 Axes>"
            ],
            "image/png": "[encoded data removed]"
          },
          "metadata": {
            "needs_background": "light"
          }
        }
      ]
    },
    {
      "cell_type": "markdown",
      "source": [
        "That looks like a nice picture at $0$.  What happens if we zoom in?"
      ],
      "metadata": {
        "id": "I8nVcpQKhuoD"
      }
    },
    {
      "cell_type": "code",
      "source": [
        "x = np.linspace(-.005,.005,10000)\n",
        "\n",
        "y = f(x)\n",
        "\n",
        "plt.plot(x,y)"
      ],
      "metadata": {
        "colab": {
          "base_uri": "https://localhost:8080/",
          "height": 283
        },
        "id": "OLBJ09edgtvv",
        "outputId": "2d7cced8-763c-4ce7-af98-0af4d9bf2081"
      },
      "execution_count": null,
      "outputs": [
        {
          "output_type": "execute_result",
          "data": {
            "text/plain": [
              "[<matplotlib.lines.Line2D at 0x7efe9cc8eb50>]"
            ]
          },
          "metadata": {},
          "execution_count": 22
        },
        {
          "output_type": "display_data",
          "data": {
            "text/plain": [
              "<Figure size 432x288 with 1 Axes>"
            ],
            "image/png": "[encoded data removed]"
          },
          "metadata": {
            "needs_background": "light"
          }
        }
      ]
    },
    {
      "cell_type": "code",
      "source": [],
      "metadata": {
        "id": "Gb86IpFlhsO3"
      },
      "execution_count": null,
      "outputs": []
    }
  ]
}